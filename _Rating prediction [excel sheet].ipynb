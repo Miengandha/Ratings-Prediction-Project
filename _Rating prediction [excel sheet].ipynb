{
 "cells": [
  {
   "cell_type": "markdown",
   "id": "31929311",
   "metadata": {},
   "source": [
    "# RATING PREDICTION [excel sheet]"
   ]
  },
  {
   "cell_type": "code",
   "execution_count": 1,
   "id": "511b9b8b",
   "metadata": {},
   "outputs": [],
   "source": [
    "import pandas as pd\n",
    "import numpy as np\n",
    "from selenium import webdriver\n",
    "from selenium.common.exceptions import StaleElementReferenceException, NoSuchElementException\n",
    "from selenium.webdriver.common.by import By\n",
    "import time\n",
    "\n",
    "import warnings\n",
    "warnings.filterwarnings('ignore')"
   ]
  },
  {
   "cell_type": "code",
   "execution_count": 2,
   "id": "ae652a78",
   "metadata": {},
   "outputs": [],
   "source": [
    "driver= webdriver.Chrome(r'C:\\Users\\user\\Downloads\\chromedriver_win32 (2)\\chromedriver.exe')\n",
    "time.sleep(2)"
   ]
  },
  {
   "cell_type": "code",
   "execution_count": 3,
   "id": "9d34b9d4",
   "metadata": {},
   "outputs": [],
   "source": [
    "url = 'https://www.amazon.in/stores/FitSpark/page/03289505-262C-4EBB-9CAC-319D8E799659?ref_=ast_bln'\n",
    "driver.get(url)"
   ]
  },
  {
   "cell_type": "code",
   "execution_count": 4,
   "id": "566da681",
   "metadata": {},
   "outputs": [
    {
     "data": {
      "text/plain": [
       "18"
      ]
     },
     "execution_count": 4,
     "metadata": {},
     "output_type": "execute_result"
    }
   ],
   "source": [
    "pro_cam_rating=driver.find_element(By.XPATH,\"//a[@class='ProductShowcase__rating__8vVzW']\").get_attribute(\"title\")\n",
    "len(pro_cam_rating)"
   ]
  },
  {
   "cell_type": "code",
   "execution_count": 5,
   "id": "e24c3e86",
   "metadata": {},
   "outputs": [
    {
     "data": {
      "text/plain": [
       "10"
      ]
     },
     "execution_count": 5,
     "metadata": {},
     "output_type": "execute_result"
    }
   ],
   "source": [
    "reviews=[]\n",
    "review_cam=driver.find_elements(By.XPATH,\"//a[@class='a-size-base a-link-normal review-title a-color-base review-title-content a-text-bold']\")\n",
    "for i in review_cam[0:100]:\n",
    "        reviews.append(i.text)\n",
    "len(reviews)"
   ]
  },
  {
   "cell_type": "code",
   "execution_count": 6,
   "id": "8d2eed87",
   "metadata": {},
   "outputs": [
    {
     "data": {
      "text/plain": [
       "(10, 10)"
      ]
     },
     "execution_count": 6,
     "metadata": {},
     "output_type": "execute_result"
    }
   ],
   "source": [
    "len(pro_cam_rating[0:10]),len(reviews)"
   ]
  },
  {
   "cell_type": "code",
   "execution_count": 7,
   "id": "0adc48f1",
   "metadata": {},
   "outputs": [
    {
     "data": {
      "text/html": [
       "<div>\n",
       "<style scoped>\n",
       "    .dataframe tbody tr th:only-of-type {\n",
       "        vertical-align: middle;\n",
       "    }\n",
       "\n",
       "    .dataframe tbody tr th {\n",
       "        vertical-align: top;\n",
       "    }\n",
       "\n",
       "    .dataframe thead th {\n",
       "        text-align: right;\n",
       "    }\n",
       "</style>\n",
       "<table border=\"1\" class=\"dataframe\">\n",
       "  <thead>\n",
       "    <tr style=\"text-align: right;\">\n",
       "      <th></th>\n",
       "      <th>Rating</th>\n",
       "      <th>Reviews</th>\n",
       "    </tr>\n",
       "  </thead>\n",
       "  <tbody>\n",
       "    <tr>\n",
       "      <th>0</th>\n",
       "      <td>4</td>\n",
       "      <td>Very Good camera in its price segment</td>\n",
       "    </tr>\n",
       "    <tr>\n",
       "      <th>1</th>\n",
       "      <td>4</td>\n",
       "      <td>Wonderful powerpacked value for money action c...</td>\n",
       "    </tr>\n",
       "    <tr>\n",
       "      <th>2</th>\n",
       "      <td>4</td>\n",
       "      <td>Great gadget at a decent price for Motovlogging</td>\n",
       "    </tr>\n",
       "    <tr>\n",
       "      <th>3</th>\n",
       "      <td>4</td>\n",
       "      <td>GoPro on a Budget</td>\n",
       "    </tr>\n",
       "    <tr>\n",
       "      <th>4</th>\n",
       "      <td>4</td>\n",
       "      <td>really reliable product at this price range</td>\n",
       "    </tr>\n",
       "    <tr>\n",
       "      <th>5</th>\n",
       "      <td>4</td>\n",
       "      <td>Nice product with suitable budget</td>\n",
       "    </tr>\n",
       "    <tr>\n",
       "      <th>6</th>\n",
       "      <td>4</td>\n",
       "      <td>Superb Quality Videos</td>\n",
       "    </tr>\n",
       "    <tr>\n",
       "      <th>7</th>\n",
       "      <td>4</td>\n",
       "      <td>Decent budget Camera!!!</td>\n",
       "    </tr>\n",
       "    <tr>\n",
       "      <th>8</th>\n",
       "      <td>4</td>\n",
       "      <td>Value for money 💰 great product</td>\n",
       "    </tr>\n",
       "    <tr>\n",
       "      <th>9</th>\n",
       "      <td>4</td>\n",
       "      <td>Its my first action camera and I found it amaz...</td>\n",
       "    </tr>\n",
       "  </tbody>\n",
       "</table>\n",
       "</div>"
      ],
      "text/plain": [
       "   Rating                                            Reviews\n",
       "0       4              Very Good camera in its price segment\n",
       "1       4  Wonderful powerpacked value for money action c...\n",
       "2       4    Great gadget at a decent price for Motovlogging\n",
       "3       4                                  GoPro on a Budget\n",
       "4       4        really reliable product at this price range\n",
       "5       4                  Nice product with suitable budget\n",
       "6       4                              Superb Quality Videos\n",
       "7       4                            Decent budget Camera!!!\n",
       "8       4                    Value for money 💰 great product\n",
       "9       4  Its my first action camera and I found it amaz..."
      ]
     },
     "execution_count": 7,
     "metadata": {},
     "output_type": "execute_result"
    }
   ],
   "source": [
    "professional_camera=pd.DataFrame()\n",
    "professional_camera['Rating'] = pro_cam_rating[0:10]\n",
    "professional_camera['Reviews'] = reviews\n",
    "professional_camera.fillna(4)"
   ]
  },
  {
   "cell_type": "code",
   "execution_count": 123,
   "id": "a47f90fb",
   "metadata": {},
   "outputs": [],
   "source": [
    "driver.close()"
   ]
  },
  {
   "cell_type": "code",
   "execution_count": null,
   "id": "68bdb96f",
   "metadata": {},
   "outputs": [],
   "source": []
  },
  {
   "cell_type": "code",
   "execution_count": 8,
   "id": "e63795fb",
   "metadata": {},
   "outputs": [],
   "source": [
    "driver1= webdriver.Chrome(r'C:\\Users\\user\\Downloads\\chromedriver_win32 (2)\\chromedriver.exe')\n",
    "time.sleep(2)"
   ]
  },
  {
   "cell_type": "code",
   "execution_count": 9,
   "id": "35a8a0cd",
   "metadata": {},
   "outputs": [],
   "source": [
    "url='https://www.amazon.in/stores/TP-LINKINDIAPVTLTD/page/D20B1819-EE5E-4B48-9D91-B50D3FE431E2?ref_=ast_bln'\n",
    "driver1.get(url)"
   ]
  },
  {
   "cell_type": "code",
   "execution_count": 10,
   "id": "f4dac0a6",
   "metadata": {},
   "outputs": [
    {
     "data": {
      "text/plain": [
       "18"
      ]
     },
     "execution_count": 10,
     "metadata": {},
     "output_type": "execute_result"
    }
   ],
   "source": [
    "router_rating=driver1.find_element(By.XPATH,\"//a[@class='ProductShowcase__rating__8vVzW']\").get_attribute('title')\n",
    "len(router_rating)"
   ]
  },
  {
   "cell_type": "code",
   "execution_count": 11,
   "id": "0e52589e",
   "metadata": {},
   "outputs": [
    {
     "data": {
      "text/plain": [
       "'4.2 out of 5 stars'"
      ]
     },
     "execution_count": 11,
     "metadata": {},
     "output_type": "execute_result"
    }
   ],
   "source": [
    "router_rating"
   ]
  },
  {
   "cell_type": "code",
   "execution_count": 12,
   "id": "cd217633",
   "metadata": {},
   "outputs": [
    {
     "data": {
      "text/plain": [
       "10"
      ]
     },
     "execution_count": 12,
     "metadata": {},
     "output_type": "execute_result"
    }
   ],
   "source": [
    "review_router=[]\n",
    "router_reviews=driver1.find_elements(By.XPATH,\"//a[@class='a-size-base a-link-normal review-title a-color-base review-title-content a-text-bold']\")\n",
    "for i in router_reviews:\n",
    "    review_router.append(i.text)\n",
    "time.sleep(2)\n",
    "len(review_router)"
   ]
  },
  {
   "cell_type": "code",
   "execution_count": 13,
   "id": "c68096a2",
   "metadata": {},
   "outputs": [
    {
     "data": {
      "text/plain": [
       "(10, 10)"
      ]
     },
     "execution_count": 13,
     "metadata": {},
     "output_type": "execute_result"
    }
   ],
   "source": [
    "len(router_rating[0:10]),len(review_router)"
   ]
  },
  {
   "cell_type": "code",
   "execution_count": 14,
   "id": "52c5d711",
   "metadata": {},
   "outputs": [
    {
     "data": {
      "text/html": [
       "<div>\n",
       "<style scoped>\n",
       "    .dataframe tbody tr th:only-of-type {\n",
       "        vertical-align: middle;\n",
       "    }\n",
       "\n",
       "    .dataframe tbody tr th {\n",
       "        vertical-align: top;\n",
       "    }\n",
       "\n",
       "    .dataframe thead th {\n",
       "        text-align: right;\n",
       "    }\n",
       "</style>\n",
       "<table border=\"1\" class=\"dataframe\">\n",
       "  <thead>\n",
       "    <tr style=\"text-align: right;\">\n",
       "      <th></th>\n",
       "      <th>Rating</th>\n",
       "      <th>Reviews</th>\n",
       "    </tr>\n",
       "  </thead>\n",
       "  <tbody>\n",
       "    <tr>\n",
       "      <th>0</th>\n",
       "      <td>4</td>\n",
       "      <td>Best Budget Tri-Band Mesh Wifi</td>\n",
       "    </tr>\n",
       "    <tr>\n",
       "      <th>1</th>\n",
       "      <td>4</td>\n",
       "      <td>seamlessly network between different decos</td>\n",
       "    </tr>\n",
       "    <tr>\n",
       "      <th>2</th>\n",
       "      <td>4</td>\n",
       "      <td>Excellent Wifi lacks controls, The app is a pr...</td>\n",
       "    </tr>\n",
       "    <tr>\n",
       "      <th>3</th>\n",
       "      <td>4</td>\n",
       "      <td>Awesomely superb. Worked well and instant conf...</td>\n",
       "    </tr>\n",
       "    <tr>\n",
       "      <th>4</th>\n",
       "      <td>4</td>\n",
       "      <td>Wifi 6E signal?</td>\n",
       "    </tr>\n",
       "    <tr>\n",
       "      <th>5</th>\n",
       "      <td>4</td>\n",
       "      <td>Rocket 🚀 performance vfm in just 20k</td>\n",
       "    </tr>\n",
       "    <tr>\n",
       "      <th>6</th>\n",
       "      <td>4</td>\n",
       "      <td>Amazing experience</td>\n",
       "    </tr>\n",
       "    <tr>\n",
       "      <th>7</th>\n",
       "      <td>4</td>\n",
       "      <td>Excellent Mesh Wifi</td>\n",
       "    </tr>\n",
       "    <tr>\n",
       "      <th>8</th>\n",
       "      <td>4</td>\n",
       "      <td>Seamless connectivity</td>\n",
       "    </tr>\n",
       "    <tr>\n",
       "      <th>9</th>\n",
       "      <td>4</td>\n",
       "      <td>Working better than expected!</td>\n",
       "    </tr>\n",
       "  </tbody>\n",
       "</table>\n",
       "</div>"
      ],
      "text/plain": [
       "   Rating                                            Reviews\n",
       "0       4                     Best Budget Tri-Band Mesh Wifi\n",
       "1       4         seamlessly network between different decos\n",
       "2       4  Excellent Wifi lacks controls, The app is a pr...\n",
       "3       4  Awesomely superb. Worked well and instant conf...\n",
       "4       4                                    Wifi 6E signal?\n",
       "5       4               Rocket 🚀 performance vfm in just 20k\n",
       "6       4                                 Amazing experience\n",
       "7       4                                Excellent Mesh Wifi\n",
       "8       4                              Seamless connectivity\n",
       "9       4                      Working better than expected!"
      ]
     },
     "execution_count": 14,
     "metadata": {},
     "output_type": "execute_result"
    }
   ],
   "source": [
    "router=pd.DataFrame()\n",
    "router['Rating'] = router_rating[0:10]\n",
    "router['Reviews'] = review_router\n",
    "router.fillna(4)"
   ]
  },
  {
   "cell_type": "code",
   "execution_count": 15,
   "id": "b95d87bc",
   "metadata": {},
   "outputs": [],
   "source": [
    "driver2= webdriver.Chrome(r'C:\\Users\\user\\Downloads\\chromedriver_win32 (2)\\chromedriver.exe')\n",
    "time.sleep(2)"
   ]
  },
  {
   "cell_type": "code",
   "execution_count": 16,
   "id": "564bb432",
   "metadata": {},
   "outputs": [],
   "source": [
    "url='https://www.amazon.in/stores/page/A0208359-5FA9-41D5-B4AD-F112FA1D922A?ingress=2&visitId=197d3225-8cca-430b-ab50-70406e1a5d65&ref_=ast_bln'\n",
    "driver2.get(url)"
   ]
  },
  {
   "cell_type": "code",
   "execution_count": 17,
   "id": "724a7e5d",
   "metadata": {},
   "outputs": [
    {
     "data": {
      "text/plain": [
       "18"
      ]
     },
     "execution_count": 17,
     "metadata": {},
     "output_type": "execute_result"
    }
   ],
   "source": [
    "theatre_rate=driver2.find_element(By.XPATH,\"//a[@class='ProductShowcase__rating__8vVzW']\").get_attribute(\"title\")\n",
    "len(theatre_rate)"
   ]
  },
  {
   "cell_type": "code",
   "execution_count": 18,
   "id": "fbc51994",
   "metadata": {},
   "outputs": [
    {
     "data": {
      "text/plain": [
       "'4.1 out of 5 stars'"
      ]
     },
     "execution_count": 18,
     "metadata": {},
     "output_type": "execute_result"
    }
   ],
   "source": [
    "theatre_rate"
   ]
  },
  {
   "cell_type": "code",
   "execution_count": 19,
   "id": "1bc15f05",
   "metadata": {},
   "outputs": [
    {
     "data": {
      "text/plain": [
       "10"
      ]
     },
     "execution_count": 19,
     "metadata": {},
     "output_type": "execute_result"
    }
   ],
   "source": [
    "theatre_review=[]\n",
    "home_review=driver2.find_elements(By.XPATH,\"//a[@class='a-size-base a-link-normal review-title a-color-base review-title-content a-text-bold']\")\n",
    "for i in home_review:\n",
    "    theatre_review.append(i.text)\n",
    "len(theatre_review)"
   ]
  },
  {
   "cell_type": "code",
   "execution_count": 20,
   "id": "4ebbe8c1",
   "metadata": {},
   "outputs": [
    {
     "data": {
      "text/html": [
       "<div>\n",
       "<style scoped>\n",
       "    .dataframe tbody tr th:only-of-type {\n",
       "        vertical-align: middle;\n",
       "    }\n",
       "\n",
       "    .dataframe tbody tr th {\n",
       "        vertical-align: top;\n",
       "    }\n",
       "\n",
       "    .dataframe thead th {\n",
       "        text-align: right;\n",
       "    }\n",
       "</style>\n",
       "<table border=\"1\" class=\"dataframe\">\n",
       "  <thead>\n",
       "    <tr style=\"text-align: right;\">\n",
       "      <th></th>\n",
       "      <th>Rating</th>\n",
       "      <th>Reviews</th>\n",
       "    </tr>\n",
       "  </thead>\n",
       "  <tbody>\n",
       "    <tr>\n",
       "      <th>0</th>\n",
       "      <td>4</td>\n",
       "      <td>Good upgrade to TV speakers</td>\n",
       "    </tr>\n",
       "    <tr>\n",
       "      <th>1</th>\n",
       "      <td>4</td>\n",
       "      <td>Nice 5.1 Surround sound speaker with worst Blu...</td>\n",
       "    </tr>\n",
       "    <tr>\n",
       "      <th>2</th>\n",
       "      <td>4</td>\n",
       "      <td>Great buy</td>\n",
       "    </tr>\n",
       "    <tr>\n",
       "      <th>3</th>\n",
       "      <td>4</td>\n",
       "      <td>Best purchase for 12K</td>\n",
       "    </tr>\n",
       "    <tr>\n",
       "      <th>4</th>\n",
       "      <td>4</td>\n",
       "      <td>Best in the price segment. Go for it</td>\n",
       "    </tr>\n",
       "    <tr>\n",
       "      <th>5</th>\n",
       "      <td>4</td>\n",
       "      <td>Like the music and bass</td>\n",
       "    </tr>\n",
       "    <tr>\n",
       "      <th>6</th>\n",
       "      <td>4</td>\n",
       "      <td>Got an used product. still working fine, excep...</td>\n",
       "    </tr>\n",
       "    <tr>\n",
       "      <th>7</th>\n",
       "      <td>4</td>\n",
       "      <td>Good product</td>\n",
       "    </tr>\n",
       "    <tr>\n",
       "      <th>8</th>\n",
       "      <td>4</td>\n",
       "      <td>9500WS is worth every penny. Best for this price.</td>\n",
       "    </tr>\n",
       "    <tr>\n",
       "      <th>9</th>\n",
       "      <td>4</td>\n",
       "      <td>Sound quality is So good</td>\n",
       "    </tr>\n",
       "  </tbody>\n",
       "</table>\n",
       "</div>"
      ],
      "text/plain": [
       "   Rating                                            Reviews\n",
       "0       4                        Good upgrade to TV speakers\n",
       "1       4  Nice 5.1 Surround sound speaker with worst Blu...\n",
       "2       4                                          Great buy\n",
       "3       4                              Best purchase for 12K\n",
       "4       4               Best in the price segment. Go for it\n",
       "5       4                            Like the music and bass\n",
       "6       4  Got an used product. still working fine, excep...\n",
       "7       4                                       Good product\n",
       "8       4  9500WS is worth every penny. Best for this price.\n",
       "9       4                           Sound quality is So good"
      ]
     },
     "execution_count": 20,
     "metadata": {},
     "output_type": "execute_result"
    }
   ],
   "source": [
    "home_theatre=pd.DataFrame()\n",
    "home_theatre['Rating'] = theatre_rate[0:10]\n",
    "home_theatre['Reviews'] = theatre_review\n",
    "home_theatre.fillna(4)"
   ]
  },
  {
   "cell_type": "code",
   "execution_count": 21,
   "id": "13c520ea",
   "metadata": {},
   "outputs": [],
   "source": [
    "driver3=webdriver.Chrome(r'C:\\Users\\user\\Downloads\\chromedriver_win32 (2)\\chromedriver.exe')\n",
    "time.sleep(2)"
   ]
  },
  {
   "cell_type": "code",
   "execution_count": 22,
   "id": "300c69b1",
   "metadata": {},
   "outputs": [],
   "source": [
    "url='https://www.flipkart.com/search?q=monitors&otracker=search&otracker1=search&marketplace=FLIPKART&as-show=on&as=off'\n",
    "driver3.get(url)"
   ]
  },
  {
   "cell_type": "code",
   "execution_count": 23,
   "id": "01d5f6f6",
   "metadata": {},
   "outputs": [
    {
     "data": {
      "text/plain": [
       "9"
      ]
     },
     "execution_count": 23,
     "metadata": {},
     "output_type": "execute_result"
    }
   ],
   "source": [
    "moni_rate=driver3.find_elements(By.XPATH,\"//div[@class='_3LWZlK _1BLPMq']\")\n",
    "len(moni_rate)"
   ]
  },
  {
   "cell_type": "code",
   "execution_count": 24,
   "id": "08425a5b",
   "metadata": {},
   "outputs": [
    {
     "data": {
      "text/plain": [
       "['5', '5', '5', '4', '5', '4', '4', '5', '5']"
      ]
     },
     "execution_count": 24,
     "metadata": {},
     "output_type": "execute_result"
    }
   ],
   "source": [
    "rate=[]\n",
    "for i in moni_rate:\n",
    "    rate.append(i.text)\n",
    "rate"
   ]
  },
  {
   "cell_type": "code",
   "execution_count": 25,
   "id": "4600052f",
   "metadata": {},
   "outputs": [
    {
     "data": {
      "text/plain": [
       "['Brilliant',\n",
       " 'Simply awesome',\n",
       " 'Terrible product',\n",
       " 'Must buy!',\n",
       " 'Wonderful',\n",
       " 'Terrific',\n",
       " 'Nice product',\n",
       " 'Good choice',\n",
       " 'Highly recommended',\n",
       " 'Highly recommended']"
      ]
     },
     "execution_count": 25,
     "metadata": {},
     "output_type": "execute_result"
    }
   ],
   "source": [
    "m_review=[]\n",
    "moni_review=driver3.find_elements(By.XPATH,\"//p[@class='_2-N8zT']\")\n",
    "for i in moni_review:\n",
    "    m_review.append(i.text)\n",
    "m_review"
   ]
  },
  {
   "cell_type": "code",
   "execution_count": 27,
   "id": "4802d19b",
   "metadata": {},
   "outputs": [
    {
     "data": {
      "text/html": [
       "<div>\n",
       "<style scoped>\n",
       "    .dataframe tbody tr th:only-of-type {\n",
       "        vertical-align: middle;\n",
       "    }\n",
       "\n",
       "    .dataframe tbody tr th {\n",
       "        vertical-align: top;\n",
       "    }\n",
       "\n",
       "    .dataframe thead th {\n",
       "        text-align: right;\n",
       "    }\n",
       "</style>\n",
       "<table border=\"1\" class=\"dataframe\">\n",
       "  <thead>\n",
       "    <tr style=\"text-align: right;\">\n",
       "      <th></th>\n",
       "      <th>Rating</th>\n",
       "      <th>Reviews</th>\n",
       "    </tr>\n",
       "  </thead>\n",
       "  <tbody>\n",
       "    <tr>\n",
       "      <th>0</th>\n",
       "      <td>5</td>\n",
       "      <td>Brilliant</td>\n",
       "    </tr>\n",
       "    <tr>\n",
       "      <th>1</th>\n",
       "      <td>5</td>\n",
       "      <td>Simply awesome</td>\n",
       "    </tr>\n",
       "    <tr>\n",
       "      <th>2</th>\n",
       "      <td>5</td>\n",
       "      <td>Terrible product</td>\n",
       "    </tr>\n",
       "    <tr>\n",
       "      <th>3</th>\n",
       "      <td>4</td>\n",
       "      <td>Must buy!</td>\n",
       "    </tr>\n",
       "    <tr>\n",
       "      <th>4</th>\n",
       "      <td>5</td>\n",
       "      <td>Wonderful</td>\n",
       "    </tr>\n",
       "    <tr>\n",
       "      <th>5</th>\n",
       "      <td>4</td>\n",
       "      <td>Terrific</td>\n",
       "    </tr>\n",
       "    <tr>\n",
       "      <th>6</th>\n",
       "      <td>4</td>\n",
       "      <td>Nice product</td>\n",
       "    </tr>\n",
       "    <tr>\n",
       "      <th>7</th>\n",
       "      <td>5</td>\n",
       "      <td>Good choice</td>\n",
       "    </tr>\n",
       "    <tr>\n",
       "      <th>8</th>\n",
       "      <td>5</td>\n",
       "      <td>Highly recommended</td>\n",
       "    </tr>\n",
       "  </tbody>\n",
       "</table>\n",
       "</div>"
      ],
      "text/plain": [
       "  Rating             Reviews\n",
       "0      5           Brilliant\n",
       "1      5      Simply awesome\n",
       "2      5    Terrible product\n",
       "3      4           Must buy!\n",
       "4      5           Wonderful\n",
       "5      4            Terrific\n",
       "6      4        Nice product\n",
       "7      5         Good choice\n",
       "8      5  Highly recommended"
      ]
     },
     "execution_count": 27,
     "metadata": {},
     "output_type": "execute_result"
    }
   ],
   "source": [
    "monitors=pd.DataFrame()\n",
    "monitors['Rating']=rate\n",
    "monitors['Reviews']=m_review[0:9]\n",
    "monitors"
   ]
  },
  {
   "cell_type": "code",
   "execution_count": 67,
   "id": "6f1a9446",
   "metadata": {},
   "outputs": [],
   "source": [
    "driver3.close()"
   ]
  },
  {
   "cell_type": "code",
   "execution_count": 28,
   "id": "db953ade",
   "metadata": {},
   "outputs": [],
   "source": [
    "driver4=webdriver.Chrome(r'C:\\Users\\user\\Downloads\\chromedriver_win32 (2)\\chromedriver.exe')\n",
    "time.sleep(2)"
   ]
  },
  {
   "cell_type": "code",
   "execution_count": 29,
   "id": "7a6470eb",
   "metadata": {},
   "outputs": [],
   "source": [
    "url='https://www.flipkart.com/canon-pixma-e3370-multi-function-wifi-color-printer-borderless-printing/p/itm2e6c7d964ef40?pid=PRNFMSFZRUAHGYJZ&lid=LSTPRNFMSFZRUAHGYJZZBPK8C&marketplace=FLIPKART&q=printers&store=6bo%2Ftia%2Fffn&srno=s_1_1&otracker=search&otracker1=search&fm=Search&iid=en_lNJQz2ayZXIsfDndnbUCejDGkqjxsDvzJquRmSmI8BWKahQklgbZV70e9mhxzw8bXZPin5BZ1Z28wAUJTEimrQ%3D%3D&ppt=sp&ppn=sp&ssid=kpuspu52o00000001666793381671&qH=bde829af57ecb10f'\n",
    "driver4.get(url)"
   ]
  },
  {
   "cell_type": "code",
   "execution_count": 33,
   "id": "33eb4bd1",
   "metadata": {},
   "outputs": [
    {
     "data": {
      "text/plain": [
       "10"
      ]
     },
     "execution_count": 33,
     "metadata": {},
     "output_type": "execute_result"
    }
   ],
   "source": [
    "print_rating=[]\n",
    "rate=driver4.find_elements(By.XPATH,\"//div[@class='_3LWZlK _1BLPMq']\")\n",
    "for j in rate:\n",
    "    print_rating.append(j.text)\n",
    "len(print_rating)"
   ]
  },
  {
   "cell_type": "code",
   "execution_count": 34,
   "id": "fca9954d",
   "metadata": {},
   "outputs": [
    {
     "data": {
      "text/plain": [
       "10"
      ]
     },
     "execution_count": 34,
     "metadata": {},
     "output_type": "execute_result"
    }
   ],
   "source": [
    "print_review=[]\n",
    "review=driver4.find_elements(By.XPATH,\"//p[@class='_2-N8zT']\")\n",
    "for k in review:\n",
    "    print_review.append(k.text)\n",
    "len(print_review)"
   ]
  },
  {
   "cell_type": "code",
   "execution_count": 35,
   "id": "9479509f",
   "metadata": {},
   "outputs": [
    {
     "data": {
      "text/html": [
       "<div>\n",
       "<style scoped>\n",
       "    .dataframe tbody tr th:only-of-type {\n",
       "        vertical-align: middle;\n",
       "    }\n",
       "\n",
       "    .dataframe tbody tr th {\n",
       "        vertical-align: top;\n",
       "    }\n",
       "\n",
       "    .dataframe thead th {\n",
       "        text-align: right;\n",
       "    }\n",
       "</style>\n",
       "<table border=\"1\" class=\"dataframe\">\n",
       "  <thead>\n",
       "    <tr style=\"text-align: right;\">\n",
       "      <th></th>\n",
       "      <th>Rating</th>\n",
       "      <th>Reviews</th>\n",
       "    </tr>\n",
       "  </thead>\n",
       "  <tbody>\n",
       "    <tr>\n",
       "      <th>0</th>\n",
       "      <td>4</td>\n",
       "      <td>Delightful</td>\n",
       "    </tr>\n",
       "    <tr>\n",
       "      <th>1</th>\n",
       "      <td>3</td>\n",
       "      <td>Quite Good</td>\n",
       "    </tr>\n",
       "    <tr>\n",
       "      <th>2</th>\n",
       "      <td>4</td>\n",
       "      <td>Nice product</td>\n",
       "    </tr>\n",
       "    <tr>\n",
       "      <th>3</th>\n",
       "      <td>5</td>\n",
       "      <td>Excellent</td>\n",
       "    </tr>\n",
       "    <tr>\n",
       "      <th>4</th>\n",
       "      <td>4</td>\n",
       "      <td>Nice product</td>\n",
       "    </tr>\n",
       "    <tr>\n",
       "      <th>5</th>\n",
       "      <td>5</td>\n",
       "      <td>Super!</td>\n",
       "    </tr>\n",
       "    <tr>\n",
       "      <th>6</th>\n",
       "      <td>5</td>\n",
       "      <td>Terrific</td>\n",
       "    </tr>\n",
       "    <tr>\n",
       "      <th>7</th>\n",
       "      <td>5</td>\n",
       "      <td>Wonderful</td>\n",
       "    </tr>\n",
       "    <tr>\n",
       "      <th>8</th>\n",
       "      <td>5</td>\n",
       "      <td>Wonderful</td>\n",
       "    </tr>\n",
       "    <tr>\n",
       "      <th>9</th>\n",
       "      <td>3</td>\n",
       "      <td>Fair</td>\n",
       "    </tr>\n",
       "  </tbody>\n",
       "</table>\n",
       "</div>"
      ],
      "text/plain": [
       "  Rating       Reviews\n",
       "0      4    Delightful\n",
       "1      3    Quite Good\n",
       "2      4  Nice product\n",
       "3      5     Excellent\n",
       "4      4  Nice product\n",
       "5      5        Super!\n",
       "6      5      Terrific\n",
       "7      5     Wonderful\n",
       "8      5     Wonderful\n",
       "9      3          Fair"
      ]
     },
     "execution_count": 35,
     "metadata": {},
     "output_type": "execute_result"
    }
   ],
   "source": [
    "printers=pd.DataFrame()\n",
    "printers['Rating'] = print_rating\n",
    "printers['Reviews'] = print_review\n",
    "printers"
   ]
  },
  {
   "cell_type": "code",
   "execution_count": 66,
   "id": "df966297",
   "metadata": {},
   "outputs": [],
   "source": [
    "driver4.close()"
   ]
  },
  {
   "cell_type": "code",
   "execution_count": 36,
   "id": "e286a6dd",
   "metadata": {},
   "outputs": [],
   "source": [
    "driver5=webdriver.Chrome(r'C:\\Users\\user\\Downloads\\chromedriver_win32 (2)\\chromedriver.exe')\n",
    "time.sleep(2)"
   ]
  },
  {
   "cell_type": "code",
   "execution_count": 37,
   "id": "212c2c86",
   "metadata": {},
   "outputs": [],
   "source": [
    "url='https://www.flipkart.com/fire-boltt-wonder-bt-calling-1-8-inch-hd-display-smartwatch/p/itmab9671bfe8f23?pid=SMWGFKRFAZBSBQ3C&lid=LSTSMWGFKRFAZBSBQ3C3WZMCN&marketplace=FLIPKART&q=smartwatches&store=ajy%2Fbuh&srno=s_1_2&otracker=search&otracker1=search&fm=Search&iid=af035716-e26a-4332-86f5-b8941aef1691.SMWGFKRFAZBSBQ3C.SEARCH&ppt=dynamic&ppn=LOYALTY_PAGE&ssid=cvadprm0hs0000001666794174476&qH=fbe9e8df937d2d17'\n",
    "driver5.get(url)"
   ]
  },
  {
   "cell_type": "code",
   "execution_count": 38,
   "id": "3f3c913e",
   "metadata": {},
   "outputs": [
    {
     "data": {
      "text/plain": [
       "10"
      ]
     },
     "execution_count": 38,
     "metadata": {},
     "output_type": "execute_result"
    }
   ],
   "source": [
    "smart_rating=[]\n",
    "rate_s=driver5.find_elements(By.XPATH,\"//div[@class='_3LWZlK _1BLPMq']\")\n",
    "for i in rate_s:\n",
    "    smart_rating.append(i.text)\n",
    "len(smart_rating)    "
   ]
  },
  {
   "cell_type": "code",
   "execution_count": 39,
   "id": "648b8e80",
   "metadata": {},
   "outputs": [
    {
     "data": {
      "text/plain": [
       "10"
      ]
     },
     "execution_count": 39,
     "metadata": {},
     "output_type": "execute_result"
    }
   ],
   "source": [
    "smart_reviews=[]\n",
    "review_s=driver5.find_elements(By.XPATH,\"//p[@class='_2-N8zT']\")\n",
    "for j in review_s:\n",
    "    smart_reviews.append(j.text)\n",
    "len(smart_reviews)                               "
   ]
  },
  {
   "cell_type": "code",
   "execution_count": 40,
   "id": "5dc3eb13",
   "metadata": {},
   "outputs": [
    {
     "data": {
      "text/html": [
       "<div>\n",
       "<style scoped>\n",
       "    .dataframe tbody tr th:only-of-type {\n",
       "        vertical-align: middle;\n",
       "    }\n",
       "\n",
       "    .dataframe tbody tr th {\n",
       "        vertical-align: top;\n",
       "    }\n",
       "\n",
       "    .dataframe thead th {\n",
       "        text-align: right;\n",
       "    }\n",
       "</style>\n",
       "<table border=\"1\" class=\"dataframe\">\n",
       "  <thead>\n",
       "    <tr style=\"text-align: right;\">\n",
       "      <th></th>\n",
       "      <th>Rating</th>\n",
       "      <th>Reviews</th>\n",
       "    </tr>\n",
       "  </thead>\n",
       "  <tbody>\n",
       "    <tr>\n",
       "      <th>0</th>\n",
       "      <td>5</td>\n",
       "      <td>Mind-blowing purchase</td>\n",
       "    </tr>\n",
       "    <tr>\n",
       "      <th>1</th>\n",
       "      <td>5</td>\n",
       "      <td>Brilliant</td>\n",
       "    </tr>\n",
       "    <tr>\n",
       "      <th>2</th>\n",
       "      <td>4</td>\n",
       "      <td>Good choice</td>\n",
       "    </tr>\n",
       "    <tr>\n",
       "      <th>3</th>\n",
       "      <td>4</td>\n",
       "      <td>Nice product</td>\n",
       "    </tr>\n",
       "    <tr>\n",
       "      <th>4</th>\n",
       "      <td>5</td>\n",
       "      <td>Terrific</td>\n",
       "    </tr>\n",
       "    <tr>\n",
       "      <th>5</th>\n",
       "      <td>5</td>\n",
       "      <td>Just wow!</td>\n",
       "    </tr>\n",
       "    <tr>\n",
       "      <th>6</th>\n",
       "      <td>5</td>\n",
       "      <td>Best in the market!</td>\n",
       "    </tr>\n",
       "    <tr>\n",
       "      <th>7</th>\n",
       "      <td>5</td>\n",
       "      <td>Highly recommended</td>\n",
       "    </tr>\n",
       "    <tr>\n",
       "      <th>8</th>\n",
       "      <td>5</td>\n",
       "      <td>Excellent</td>\n",
       "    </tr>\n",
       "    <tr>\n",
       "      <th>9</th>\n",
       "      <td>5</td>\n",
       "      <td>Simply awesome</td>\n",
       "    </tr>\n",
       "  </tbody>\n",
       "</table>\n",
       "</div>"
      ],
      "text/plain": [
       "  Rating                Reviews\n",
       "0      5  Mind-blowing purchase\n",
       "1      5              Brilliant\n",
       "2      4            Good choice\n",
       "3      4           Nice product\n",
       "4      5               Terrific\n",
       "5      5              Just wow!\n",
       "6      5    Best in the market!\n",
       "7      5     Highly recommended\n",
       "8      5              Excellent\n",
       "9      5         Simply awesome"
      ]
     },
     "execution_count": 40,
     "metadata": {},
     "output_type": "execute_result"
    }
   ],
   "source": [
    "smartwatches=pd.DataFrame()\n",
    "smartwatches['Rating']=smart_rating\n",
    "smartwatches['Reviews']=smart_reviews\n",
    "smartwatches"
   ]
  },
  {
   "cell_type": "code",
   "execution_count": 65,
   "id": "4c80daa6",
   "metadata": {},
   "outputs": [],
   "source": [
    "driver5.close()"
   ]
  },
  {
   "cell_type": "code",
   "execution_count": 41,
   "id": "fce36fd5",
   "metadata": {},
   "outputs": [],
   "source": [
    "driver6=webdriver.Chrome(r'C:\\Users\\user\\Downloads\\chromedriver_win32 (2)\\chromedriver.exe')\n",
    "time.sleep(2)"
   ]
  },
  {
   "cell_type": "code",
   "execution_count": 42,
   "id": "98760dde",
   "metadata": {},
   "outputs": [],
   "source": [
    "url='https://www.flipkart.com/sony-310ap-wired-headset/product-reviews/itmd2997107336aa?pid=ACCDQZAUQJUJ7CAG&lid=LSTACCDQZAUQJUJ7CAG5A5T9S&marketplace=FLIPKART'\n",
    "driver6.get(url)"
   ]
  },
  {
   "cell_type": "code",
   "execution_count": 43,
   "id": "bf1ba67b",
   "metadata": {},
   "outputs": [
    {
     "data": {
      "text/plain": [
       "10"
      ]
     },
     "execution_count": 43,
     "metadata": {},
     "output_type": "execute_result"
    }
   ],
   "source": [
    "head_rate=[]\n",
    "phn_rating=driver6.find_elements(By.XPATH,\"//div[@class='_3LWZlK _1BLPMq']\")\n",
    "for i in phn_rating:\n",
    "    head_rate.append(i.text)\n",
    "len(head_rate)"
   ]
  },
  {
   "cell_type": "code",
   "execution_count": 44,
   "id": "8dce44c7",
   "metadata": {},
   "outputs": [
    {
     "data": {
      "text/plain": [
       "10"
      ]
     },
     "execution_count": 44,
     "metadata": {},
     "output_type": "execute_result"
    }
   ],
   "source": [
    "head_review=[]\n",
    "phn_reviews=driver6.find_elements(By.XPATH,\"//p[@class='_2-N8zT']\")\n",
    "for i in phn_reviews:\n",
    "    head_review.append(i.text)\n",
    "len(head_review)    "
   ]
  },
  {
   "cell_type": "code",
   "execution_count": 45,
   "id": "dbca41a6",
   "metadata": {},
   "outputs": [
    {
     "data": {
      "text/html": [
       "<div>\n",
       "<style scoped>\n",
       "    .dataframe tbody tr th:only-of-type {\n",
       "        vertical-align: middle;\n",
       "    }\n",
       "\n",
       "    .dataframe tbody tr th {\n",
       "        vertical-align: top;\n",
       "    }\n",
       "\n",
       "    .dataframe thead th {\n",
       "        text-align: right;\n",
       "    }\n",
       "</style>\n",
       "<table border=\"1\" class=\"dataframe\">\n",
       "  <thead>\n",
       "    <tr style=\"text-align: right;\">\n",
       "      <th></th>\n",
       "      <th>Rating</th>\n",
       "      <th>Reviews</th>\n",
       "    </tr>\n",
       "  </thead>\n",
       "  <tbody>\n",
       "    <tr>\n",
       "      <th>0</th>\n",
       "      <td>5</td>\n",
       "      <td>Terrific</td>\n",
       "    </tr>\n",
       "    <tr>\n",
       "      <th>1</th>\n",
       "      <td>4</td>\n",
       "      <td>Worth the money</td>\n",
       "    </tr>\n",
       "    <tr>\n",
       "      <th>2</th>\n",
       "      <td>4</td>\n",
       "      <td>Good quality product</td>\n",
       "    </tr>\n",
       "    <tr>\n",
       "      <th>3</th>\n",
       "      <td>5</td>\n",
       "      <td>Brilliant</td>\n",
       "    </tr>\n",
       "    <tr>\n",
       "      <th>4</th>\n",
       "      <td>5</td>\n",
       "      <td>Wonderful</td>\n",
       "    </tr>\n",
       "    <tr>\n",
       "      <th>5</th>\n",
       "      <td>5</td>\n",
       "      <td>Just wow!</td>\n",
       "    </tr>\n",
       "    <tr>\n",
       "      <th>6</th>\n",
       "      <td>5</td>\n",
       "      <td>Awesome</td>\n",
       "    </tr>\n",
       "    <tr>\n",
       "      <th>7</th>\n",
       "      <td>3</td>\n",
       "      <td>Great one from Sony</td>\n",
       "    </tr>\n",
       "    <tr>\n",
       "      <th>8</th>\n",
       "      <td>3</td>\n",
       "      <td>Does the job</td>\n",
       "    </tr>\n",
       "    <tr>\n",
       "      <th>9</th>\n",
       "      <td>5</td>\n",
       "      <td>#reviewJockey(RJ Arnab Dey)</td>\n",
       "    </tr>\n",
       "  </tbody>\n",
       "</table>\n",
       "</div>"
      ],
      "text/plain": [
       "  Rating                      Reviews\n",
       "0      5                     Terrific\n",
       "1      4              Worth the money\n",
       "2      4         Good quality product\n",
       "3      5                    Brilliant\n",
       "4      5                    Wonderful\n",
       "5      5                    Just wow!\n",
       "6      5                      Awesome\n",
       "7      3          Great one from Sony\n",
       "8      3                 Does the job\n",
       "9      5  #reviewJockey(RJ Arnab Dey)"
      ]
     },
     "execution_count": 45,
     "metadata": {},
     "output_type": "execute_result"
    }
   ],
   "source": [
    "headphones=pd.DataFrame()\n",
    "headphones['Rating']=head_rate\n",
    "headphones['Reviews']=head_review\n",
    "headphones"
   ]
  },
  {
   "cell_type": "code",
   "execution_count": 64,
   "id": "b607f359",
   "metadata": {},
   "outputs": [],
   "source": [
    "driver6.close()"
   ]
  },
  {
   "cell_type": "code",
   "execution_count": 46,
   "id": "9fe4d7de",
   "metadata": {},
   "outputs": [],
   "source": [
    "driver7=webdriver.Chrome(r'C:\\Users\\user\\Downloads\\chromedriver_win32 (2)\\chromedriver.exe')\n",
    "time.sleep(2)"
   ]
  },
  {
   "cell_type": "code",
   "execution_count": 47,
   "id": "3bbb5b30",
   "metadata": {},
   "outputs": [],
   "source": [
    "url='https://www.flipkart.com/samsung-galaxy-f13-nightsky-green-64-gb/product-reviews/itmeadfda1bd23fa?pid=MOBGENJWF4KJTPEN&lid=LSTMOBGENJWF4KJTPENAUQVSZ&marketplace=FLIPKART'\n",
    "driver7.get(url)"
   ]
  },
  {
   "cell_type": "code",
   "execution_count": 48,
   "id": "732e2b4e",
   "metadata": {},
   "outputs": [
    {
     "data": {
      "text/plain": [
       "10"
      ]
     },
     "execution_count": 48,
     "metadata": {},
     "output_type": "execute_result"
    }
   ],
   "source": [
    "rate=[]\n",
    "phn_rate=driver7.find_elements(By.XPATH,\"//div[@class='_3LWZlK _1BLPMq']\")\n",
    "for i in phn_rate:\n",
    "    rate.append(i.text)\n",
    "len(rate)"
   ]
  },
  {
   "cell_type": "code",
   "execution_count": 49,
   "id": "66da5817",
   "metadata": {},
   "outputs": [
    {
     "data": {
      "text/plain": [
       "10"
      ]
     },
     "execution_count": 49,
     "metadata": {},
     "output_type": "execute_result"
    }
   ],
   "source": [
    "review=[]\n",
    "phn_review=driver7.find_elements(By.XPATH,\"//p[@class='_2-N8zT']\")\n",
    "for i in phn_review:\n",
    "    review.append(i.text)\n",
    "len(review)"
   ]
  },
  {
   "cell_type": "code",
   "execution_count": 50,
   "id": "28db9304",
   "metadata": {},
   "outputs": [
    {
     "data": {
      "text/html": [
       "<div>\n",
       "<style scoped>\n",
       "    .dataframe tbody tr th:only-of-type {\n",
       "        vertical-align: middle;\n",
       "    }\n",
       "\n",
       "    .dataframe tbody tr th {\n",
       "        vertical-align: top;\n",
       "    }\n",
       "\n",
       "    .dataframe thead th {\n",
       "        text-align: right;\n",
       "    }\n",
       "</style>\n",
       "<table border=\"1\" class=\"dataframe\">\n",
       "  <thead>\n",
       "    <tr style=\"text-align: right;\">\n",
       "      <th></th>\n",
       "      <th>Rating</th>\n",
       "      <th>Reviews</th>\n",
       "    </tr>\n",
       "  </thead>\n",
       "  <tbody>\n",
       "    <tr>\n",
       "      <th>0</th>\n",
       "      <td>5</td>\n",
       "      <td>Terrific</td>\n",
       "    </tr>\n",
       "    <tr>\n",
       "      <th>1</th>\n",
       "      <td>5</td>\n",
       "      <td>Excellent</td>\n",
       "    </tr>\n",
       "    <tr>\n",
       "      <th>2</th>\n",
       "      <td>5</td>\n",
       "      <td>Excellent</td>\n",
       "    </tr>\n",
       "    <tr>\n",
       "      <th>3</th>\n",
       "      <td>3</td>\n",
       "      <td>Fair</td>\n",
       "    </tr>\n",
       "    <tr>\n",
       "      <th>4</th>\n",
       "      <td>4</td>\n",
       "      <td>Nice product</td>\n",
       "    </tr>\n",
       "    <tr>\n",
       "      <th>5</th>\n",
       "      <td>5</td>\n",
       "      <td>Mind-blowing purchase</td>\n",
       "    </tr>\n",
       "    <tr>\n",
       "      <th>6</th>\n",
       "      <td>4</td>\n",
       "      <td>Value-for-money</td>\n",
       "    </tr>\n",
       "    <tr>\n",
       "      <th>7</th>\n",
       "      <td>5</td>\n",
       "      <td>Just wow!</td>\n",
       "    </tr>\n",
       "    <tr>\n",
       "      <th>8</th>\n",
       "      <td>5</td>\n",
       "      <td>Terrific purchase</td>\n",
       "    </tr>\n",
       "    <tr>\n",
       "      <th>9</th>\n",
       "      <td>4</td>\n",
       "      <td>Delightful</td>\n",
       "    </tr>\n",
       "  </tbody>\n",
       "</table>\n",
       "</div>"
      ],
      "text/plain": [
       "  Rating                Reviews\n",
       "0      5               Terrific\n",
       "1      5              Excellent\n",
       "2      5              Excellent\n",
       "3      3                   Fair\n",
       "4      4           Nice product\n",
       "5      5  Mind-blowing purchase\n",
       "6      4        Value-for-money\n",
       "7      5              Just wow!\n",
       "8      5      Terrific purchase\n",
       "9      4             Delightful"
      ]
     },
     "execution_count": 50,
     "metadata": {},
     "output_type": "execute_result"
    }
   ],
   "source": [
    "phones=pd.DataFrame()\n",
    "phones['Rating']=rate\n",
    "phones['Reviews']=review\n",
    "phones"
   ]
  },
  {
   "cell_type": "code",
   "execution_count": 63,
   "id": "94defc8c",
   "metadata": {},
   "outputs": [],
   "source": [
    "driver7.close()"
   ]
  },
  {
   "cell_type": "code",
   "execution_count": 51,
   "id": "ded13733",
   "metadata": {},
   "outputs": [],
   "source": [
    "driver8=webdriver.Chrome(r'C:\\Users\\user\\Downloads\\chromedriver_win32 (2)\\chromedriver.exe')\n",
    "time.sleep(2)"
   ]
  },
  {
   "cell_type": "code",
   "execution_count": 52,
   "id": "377caee4",
   "metadata": {},
   "outputs": [],
   "source": [
    "url='https://www.flipkart.com/hp-athlon-dual-core-3050u-8-gb-512-gb-ssd-windows-11-home-15s-eq1559au-thin-light-laptop/product-reviews/itm805c7d908648d?pid=COMGG63HRV3GFN4G&lid=LSTCOMGG63HRV3GFN4GPLQ1JG&marketplace=FLIPKART'\n",
    "driver8.get(url)"
   ]
  },
  {
   "cell_type": "code",
   "execution_count": 53,
   "id": "15441f4d",
   "metadata": {},
   "outputs": [
    {
     "data": {
      "text/plain": [
       "10"
      ]
     },
     "execution_count": 53,
     "metadata": {},
     "output_type": "execute_result"
    }
   ],
   "source": [
    "lap_rate=[]\n",
    "rating=driver8.find_elements(By.XPATH,\"//div[@class='_3LWZlK _1BLPMq']\")\n",
    "for i in rating:\n",
    "    lap_rate.append(i.text)\n",
    "len(lap_rate)    "
   ]
  },
  {
   "cell_type": "code",
   "execution_count": 54,
   "id": "774e2bf2",
   "metadata": {},
   "outputs": [
    {
     "data": {
      "text/plain": [
       "10"
      ]
     },
     "execution_count": 54,
     "metadata": {},
     "output_type": "execute_result"
    }
   ],
   "source": [
    "lap_review=[]\n",
    "reviews=driver8.find_elements(By.XPATH,\"//p[@class='_2-N8zT']\")\n",
    "for i in reviews:\n",
    "    lap_review.append(i.text)\n",
    "len(lap_review)"
   ]
  },
  {
   "cell_type": "code",
   "execution_count": 55,
   "id": "11d623db",
   "metadata": {},
   "outputs": [
    {
     "data": {
      "text/html": [
       "<div>\n",
       "<style scoped>\n",
       "    .dataframe tbody tr th:only-of-type {\n",
       "        vertical-align: middle;\n",
       "    }\n",
       "\n",
       "    .dataframe tbody tr th {\n",
       "        vertical-align: top;\n",
       "    }\n",
       "\n",
       "    .dataframe thead th {\n",
       "        text-align: right;\n",
       "    }\n",
       "</style>\n",
       "<table border=\"1\" class=\"dataframe\">\n",
       "  <thead>\n",
       "    <tr style=\"text-align: right;\">\n",
       "      <th></th>\n",
       "      <th>Rating</th>\n",
       "      <th>Reviews</th>\n",
       "    </tr>\n",
       "  </thead>\n",
       "  <tbody>\n",
       "    <tr>\n",
       "      <th>0</th>\n",
       "      <td>5</td>\n",
       "      <td>Great product</td>\n",
       "    </tr>\n",
       "    <tr>\n",
       "      <th>1</th>\n",
       "      <td>4</td>\n",
       "      <td>Nice product</td>\n",
       "    </tr>\n",
       "    <tr>\n",
       "      <th>2</th>\n",
       "      <td>5</td>\n",
       "      <td>Terrific purchase</td>\n",
       "    </tr>\n",
       "    <tr>\n",
       "      <th>3</th>\n",
       "      <td>5</td>\n",
       "      <td>Super!</td>\n",
       "    </tr>\n",
       "    <tr>\n",
       "      <th>4</th>\n",
       "      <td>4</td>\n",
       "      <td>Good choice</td>\n",
       "    </tr>\n",
       "    <tr>\n",
       "      <th>5</th>\n",
       "      <td>4</td>\n",
       "      <td>Good quality product</td>\n",
       "    </tr>\n",
       "    <tr>\n",
       "      <th>6</th>\n",
       "      <td>5</td>\n",
       "      <td>Mind-blowing purchase</td>\n",
       "    </tr>\n",
       "    <tr>\n",
       "      <th>7</th>\n",
       "      <td>5</td>\n",
       "      <td>Terrific</td>\n",
       "    </tr>\n",
       "    <tr>\n",
       "      <th>8</th>\n",
       "      <td>5</td>\n",
       "      <td>Awesome</td>\n",
       "    </tr>\n",
       "    <tr>\n",
       "      <th>9</th>\n",
       "      <td>3</td>\n",
       "      <td>Just okay</td>\n",
       "    </tr>\n",
       "  </tbody>\n",
       "</table>\n",
       "</div>"
      ],
      "text/plain": [
       "  Rating                Reviews\n",
       "0      5          Great product\n",
       "1      4           Nice product\n",
       "2      5      Terrific purchase\n",
       "3      5                 Super!\n",
       "4      4            Good choice\n",
       "5      4   Good quality product\n",
       "6      5  Mind-blowing purchase\n",
       "7      5               Terrific\n",
       "8      5                Awesome\n",
       "9      3              Just okay"
      ]
     },
     "execution_count": 55,
     "metadata": {},
     "output_type": "execute_result"
    }
   ],
   "source": [
    "laptops=pd.DataFrame()\n",
    "laptops['Rating']=lap_rate\n",
    "laptops['Reviews']=lap_review\n",
    "laptops"
   ]
  },
  {
   "cell_type": "code",
   "execution_count": 62,
   "id": "9445298c",
   "metadata": {},
   "outputs": [],
   "source": [
    "driver8.close()"
   ]
  },
  {
   "cell_type": "code",
   "execution_count": 69,
   "id": "bff61c13",
   "metadata": {},
   "outputs": [],
   "source": [
    "driver9=webdriver.Chrome(r'C:\\Users\\user\\Downloads\\chromedriver_win32 (2)\\chromedriver.exe')\n",
    "time.sleep(2)"
   ]
  },
  {
   "cell_type": "code",
   "execution_count": 70,
   "id": "784836fa",
   "metadata": {},
   "outputs": [],
   "source": [
    "url='https://www.flipkart.com/aneep-drawing-lcd-writing-tablet-8-5-inch-board-doodle-pad-newest-pressure-sensitive-technology-best-birthday-gift-toy-kids-baby-boy-girl-led-learning-educational-game-tab/product-reviews/itm222acf17aadc2?pid=ETYG7ZR3SWCVA4KZ&lid=LSTETYG7ZR3SWCVA4KZD9EGS2&marketplace=FLIPKART'\n",
    "driver9.get(url)"
   ]
  },
  {
   "cell_type": "code",
   "execution_count": 71,
   "id": "45b48f6c",
   "metadata": {},
   "outputs": [
    {
     "data": {
      "text/plain": [
       "10"
      ]
     },
     "execution_count": 71,
     "metadata": {},
     "output_type": "execute_result"
    }
   ],
   "source": [
    "e_rate=[]\n",
    "rating=driver9.find_elements(By.XPATH,\"//div[@class='_3LWZlK _1BLPMq']\")\n",
    "for i in rating:\n",
    "    e_rate.append(i.text)\n",
    "len(e_rate)    "
   ]
  },
  {
   "cell_type": "code",
   "execution_count": 72,
   "id": "179964da",
   "metadata": {},
   "outputs": [
    {
     "data": {
      "text/plain": [
       "10"
      ]
     },
     "execution_count": 72,
     "metadata": {},
     "output_type": "execute_result"
    }
   ],
   "source": [
    "e_review=[]\n",
    "review=driver9.find_elements(By.XPATH,\"//p[@class='_2-N8zT']\")\n",
    "for i in review:\n",
    "    e_review.append(i.text)\n",
    "len(e_review)  "
   ]
  },
  {
   "cell_type": "code",
   "execution_count": 73,
   "id": "71313a80",
   "metadata": {},
   "outputs": [
    {
     "data": {
      "text/html": [
       "<div>\n",
       "<style scoped>\n",
       "    .dataframe tbody tr th:only-of-type {\n",
       "        vertical-align: middle;\n",
       "    }\n",
       "\n",
       "    .dataframe tbody tr th {\n",
       "        vertical-align: top;\n",
       "    }\n",
       "\n",
       "    .dataframe thead th {\n",
       "        text-align: right;\n",
       "    }\n",
       "</style>\n",
       "<table border=\"1\" class=\"dataframe\">\n",
       "  <thead>\n",
       "    <tr style=\"text-align: right;\">\n",
       "      <th></th>\n",
       "      <th>Rating</th>\n",
       "      <th>Reviews</th>\n",
       "    </tr>\n",
       "  </thead>\n",
       "  <tbody>\n",
       "    <tr>\n",
       "      <th>0</th>\n",
       "      <td>5</td>\n",
       "      <td>Mind-blowing purchase</td>\n",
       "    </tr>\n",
       "    <tr>\n",
       "      <th>1</th>\n",
       "      <td>5</td>\n",
       "      <td>Mind-blowing purchase</td>\n",
       "    </tr>\n",
       "    <tr>\n",
       "      <th>2</th>\n",
       "      <td>5</td>\n",
       "      <td>Brilliant</td>\n",
       "    </tr>\n",
       "    <tr>\n",
       "      <th>3</th>\n",
       "      <td>5</td>\n",
       "      <td>Perfect product!</td>\n",
       "    </tr>\n",
       "    <tr>\n",
       "      <th>4</th>\n",
       "      <td>5</td>\n",
       "      <td>Fabulous!</td>\n",
       "    </tr>\n",
       "    <tr>\n",
       "      <th>5</th>\n",
       "      <td>5</td>\n",
       "      <td>Excellent</td>\n",
       "    </tr>\n",
       "    <tr>\n",
       "      <th>6</th>\n",
       "      <td>4</td>\n",
       "      <td>Pretty good</td>\n",
       "    </tr>\n",
       "    <tr>\n",
       "      <th>7</th>\n",
       "      <td>5</td>\n",
       "      <td>Classy product</td>\n",
       "    </tr>\n",
       "    <tr>\n",
       "      <th>8</th>\n",
       "      <td>4</td>\n",
       "      <td>Pretty good</td>\n",
       "    </tr>\n",
       "    <tr>\n",
       "      <th>9</th>\n",
       "      <td>5</td>\n",
       "      <td>Just wow!</td>\n",
       "    </tr>\n",
       "  </tbody>\n",
       "</table>\n",
       "</div>"
      ],
      "text/plain": [
       "  Rating                Reviews\n",
       "0      5  Mind-blowing purchase\n",
       "1      5  Mind-blowing purchase\n",
       "2      5              Brilliant\n",
       "3      5       Perfect product!\n",
       "4      5              Fabulous!\n",
       "5      5              Excellent\n",
       "6      4            Pretty good\n",
       "7      5         Classy product\n",
       "8      4            Pretty good\n",
       "9      5              Just wow!"
      ]
     },
     "execution_count": 73,
     "metadata": {},
     "output_type": "execute_result"
    }
   ],
   "source": [
    "e_learning=pd.DataFrame()\n",
    "e_learning['Rating']=e_rate\n",
    "e_learning['Reviews']=e_review\n",
    "e_learning"
   ]
  },
  {
   "cell_type": "code",
   "execution_count": 74,
   "id": "b0cc8427",
   "metadata": {},
   "outputs": [],
   "source": [
    "driver9.close()"
   ]
  },
  {
   "cell_type": "code",
   "execution_count": 186,
   "id": "53297fd9",
   "metadata": {},
   "outputs": [],
   "source": [
    "driver10=webdriver.Chrome(r'C:\\Users\\user\\Downloads\\chromedriver_win32 (2)\\chromedriver.exe')\n",
    "time.sleep(2)"
   ]
  },
  {
   "cell_type": "code",
   "execution_count": 187,
   "id": "7ae0fede",
   "metadata": {},
   "outputs": [],
   "source": [
    "url='https://www.flipkart.com/mivi-play-5-w-portable-bluetooth-speaker/product-reviews/itm9dcdfcd2431db?pid=ACCG25T3Z4CHBUAP&lid=LSTACCG25T3Z4CHBUAP3YVWZ1&marketplace=FLIPKART'\n",
    "driver10.get(url)"
   ]
  },
  {
   "cell_type": "code",
   "execution_count": 188,
   "id": "c4f30c6b",
   "metadata": {},
   "outputs": [
    {
     "data": {
      "text/plain": [
       "10"
      ]
     },
     "execution_count": 188,
     "metadata": {},
     "output_type": "execute_result"
    }
   ],
   "source": [
    "sp_rate=[]\n",
    "rating=driver10.find_elements(By.XPATH,\"//div[@class='_3LWZlK _1BLPMq' ]\")\n",
    "for i in rating:\n",
    "    sp_rate.append(i.text)\n",
    "len(sp_rate)    "
   ]
  },
  {
   "cell_type": "code",
   "execution_count": 189,
   "id": "579b739c",
   "metadata": {},
   "outputs": [
    {
     "data": {
      "text/plain": [
       "10"
      ]
     },
     "execution_count": 189,
     "metadata": {},
     "output_type": "execute_result"
    }
   ],
   "source": [
    "sp_review=[]\n",
    "review=driver10.find_elements(By.XPATH,\"//p[@class='_2-N8zT']\")\n",
    "for i in review:\n",
    "    sp_review.append(i.text)\n",
    "len(sp_review)"
   ]
  },
  {
   "cell_type": "code",
   "execution_count": 190,
   "id": "8641ce16",
   "metadata": {},
   "outputs": [
    {
     "data": {
      "text/html": [
       "<div>\n",
       "<style scoped>\n",
       "    .dataframe tbody tr th:only-of-type {\n",
       "        vertical-align: middle;\n",
       "    }\n",
       "\n",
       "    .dataframe tbody tr th {\n",
       "        vertical-align: top;\n",
       "    }\n",
       "\n",
       "    .dataframe thead th {\n",
       "        text-align: right;\n",
       "    }\n",
       "</style>\n",
       "<table border=\"1\" class=\"dataframe\">\n",
       "  <thead>\n",
       "    <tr style=\"text-align: right;\">\n",
       "      <th></th>\n",
       "      <th>Rating</th>\n",
       "      <th>Reviews</th>\n",
       "    </tr>\n",
       "  </thead>\n",
       "  <tbody>\n",
       "    <tr>\n",
       "      <th>0</th>\n",
       "      <td>5</td>\n",
       "      <td>Worth every penny</td>\n",
       "    </tr>\n",
       "    <tr>\n",
       "      <th>1</th>\n",
       "      <td>4</td>\n",
       "      <td>Value-for-money</td>\n",
       "    </tr>\n",
       "    <tr>\n",
       "      <th>2</th>\n",
       "      <td>5</td>\n",
       "      <td>Simply awesome</td>\n",
       "    </tr>\n",
       "    <tr>\n",
       "      <th>3</th>\n",
       "      <td>5</td>\n",
       "      <td>Terrific</td>\n",
       "    </tr>\n",
       "    <tr>\n",
       "      <th>4</th>\n",
       "      <td>5</td>\n",
       "      <td>Super!</td>\n",
       "    </tr>\n",
       "    <tr>\n",
       "      <th>5</th>\n",
       "      <td>5</td>\n",
       "      <td>Must buy!</td>\n",
       "    </tr>\n",
       "    <tr>\n",
       "      <th>6</th>\n",
       "      <td>5</td>\n",
       "      <td>Awesome</td>\n",
       "    </tr>\n",
       "    <tr>\n",
       "      <th>7</th>\n",
       "      <td>5</td>\n",
       "      <td>Terrific purchase</td>\n",
       "    </tr>\n",
       "    <tr>\n",
       "      <th>8</th>\n",
       "      <td>5</td>\n",
       "      <td>Classy product</td>\n",
       "    </tr>\n",
       "    <tr>\n",
       "      <th>9</th>\n",
       "      <td>5</td>\n",
       "      <td>Wonderful</td>\n",
       "    </tr>\n",
       "  </tbody>\n",
       "</table>\n",
       "</div>"
      ],
      "text/plain": [
       "  Rating            Reviews\n",
       "0      5  Worth every penny\n",
       "1      4    Value-for-money\n",
       "2      5     Simply awesome\n",
       "3      5           Terrific\n",
       "4      5             Super!\n",
       "5      5          Must buy!\n",
       "6      5            Awesome\n",
       "7      5  Terrific purchase\n",
       "8      5     Classy product\n",
       "9      5          Wonderful"
      ]
     },
     "execution_count": 190,
     "metadata": {},
     "output_type": "execute_result"
    }
   ],
   "source": [
    "bluetooth_speaker=pd.DataFrame()\n",
    "bluetooth_speaker['Rating']=sp_rate\n",
    "bluetooth_speaker['Reviews']=sp_review\n",
    "bluetooth_speaker"
   ]
  },
  {
   "cell_type": "code",
   "execution_count": 191,
   "id": "cbfaee30",
   "metadata": {},
   "outputs": [],
   "source": [
    "driver10.close()"
   ]
  },
  {
   "cell_type": "code",
   "execution_count": 89,
   "id": "f05733ad",
   "metadata": {},
   "outputs": [],
   "source": [
    "driver11=webdriver.Chrome(r'C:\\Users\\user\\Downloads\\chromedriver_win32 (2)\\chromedriver.exe')\n",
    "time.sleep(2)"
   ]
  },
  {
   "cell_type": "code",
   "execution_count": 91,
   "id": "4dd7808b",
   "metadata": {},
   "outputs": [],
   "source": [
    "url='https://www.amazon.in/stores/page/845B3489-4807-44AF-9408-945FEB20FBAB?ingress=2&visitId=dde693da-3249-4b87-9b28-5a5571935757&ref_=ast_bln'\n",
    "driver11.get(url)"
   ]
  },
  {
   "cell_type": "code",
   "execution_count": 92,
   "id": "5f28d97e",
   "metadata": {},
   "outputs": [
    {
     "data": {
      "text/plain": [
       "18"
      ]
     },
     "execution_count": 92,
     "metadata": {},
     "output_type": "execute_result"
    }
   ],
   "source": [
    "sec_rate=driver11.find_element(By.XPATH,\"//a[@class='ProductShowcase__rating__8vVzW']\").get_attribute(\"title\")\n",
    "len(sec_rate)"
   ]
  },
  {
   "cell_type": "code",
   "execution_count": 93,
   "id": "a40f5417",
   "metadata": {},
   "outputs": [
    {
     "data": {
      "text/plain": [
       "10"
      ]
     },
     "execution_count": 93,
     "metadata": {},
     "output_type": "execute_result"
    }
   ],
   "source": [
    "sec_review=[]\n",
    "review_cam=driver11.find_elements(By.XPATH,\"//a[@class='a-size-base a-link-normal review-title a-color-base review-title-content a-text-bold']\")\n",
    "for i in review_cam:\n",
    "    sec_review.append(i.text)\n",
    "len(sec_review)    "
   ]
  },
  {
   "cell_type": "code",
   "execution_count": 96,
   "id": "4c291bb3",
   "metadata": {},
   "outputs": [
    {
     "data": {
      "text/html": [
       "<div>\n",
       "<style scoped>\n",
       "    .dataframe tbody tr th:only-of-type {\n",
       "        vertical-align: middle;\n",
       "    }\n",
       "\n",
       "    .dataframe tbody tr th {\n",
       "        vertical-align: top;\n",
       "    }\n",
       "\n",
       "    .dataframe thead th {\n",
       "        text-align: right;\n",
       "    }\n",
       "</style>\n",
       "<table border=\"1\" class=\"dataframe\">\n",
       "  <thead>\n",
       "    <tr style=\"text-align: right;\">\n",
       "      <th></th>\n",
       "      <th>Rating</th>\n",
       "      <th>Reviews</th>\n",
       "    </tr>\n",
       "  </thead>\n",
       "  <tbody>\n",
       "    <tr>\n",
       "      <th>0</th>\n",
       "      <td>5</td>\n",
       "      <td>MEMERY CARD NOT 🚫 SPORT SAND DICK 32GB</td>\n",
       "    </tr>\n",
       "    <tr>\n",
       "      <th>1</th>\n",
       "      <td>5</td>\n",
       "      <td>Valie for money.. Recommended</td>\n",
       "    </tr>\n",
       "    <tr>\n",
       "      <th>2</th>\n",
       "      <td>5</td>\n",
       "      <td>Other than initial hiccups, some (Mi Home app)...</td>\n",
       "    </tr>\n",
       "    <tr>\n",
       "      <th>3</th>\n",
       "      <td>5</td>\n",
       "      <td>Box was not sealed protective film was absent ...</td>\n",
       "    </tr>\n",
       "    <tr>\n",
       "      <th>4</th>\n",
       "      <td>5</td>\n",
       "      <td>Gives a good night vision</td>\n",
       "    </tr>\n",
       "    <tr>\n",
       "      <th>5</th>\n",
       "      <td>5</td>\n",
       "      <td>Decent camera</td>\n",
       "    </tr>\n",
       "    <tr>\n",
       "      <th>6</th>\n",
       "      <td>5</td>\n",
       "      <td>Good product</td>\n",
       "    </tr>\n",
       "    <tr>\n",
       "      <th>7</th>\n",
       "      <td>5</td>\n",
       "      <td>Best cam after trying all other brands</td>\n",
       "    </tr>\n",
       "    <tr>\n",
       "      <th>8</th>\n",
       "      <td>5</td>\n",
       "      <td>Camera not working after few months use</td>\n",
       "    </tr>\n",
       "    <tr>\n",
       "      <th>9</th>\n",
       "      <td>5</td>\n",
       "      <td>Read this for easy installation.</td>\n",
       "    </tr>\n",
       "  </tbody>\n",
       "</table>\n",
       "</div>"
      ],
      "text/plain": [
       "   Rating                                            Reviews\n",
       "0       5             MEMERY CARD NOT 🚫 SPORT SAND DICK 32GB\n",
       "1       5                      Valie for money.. Recommended\n",
       "2       5  Other than initial hiccups, some (Mi Home app)...\n",
       "3       5  Box was not sealed protective film was absent ...\n",
       "4       5                          Gives a good night vision\n",
       "5       5                                      Decent camera\n",
       "6       5                                       Good product\n",
       "7       5             Best cam after trying all other brands\n",
       "8       5            Camera not working after few months use\n",
       "9       5                   Read this for easy installation."
      ]
     },
     "execution_count": 96,
     "metadata": {},
     "output_type": "execute_result"
    }
   ],
   "source": [
    "security_camera=pd.DataFrame()\n",
    "security_camera['Rating'] = sec_rate[0:10]\n",
    "security_camera['Reviews'] = sec_review\n",
    "security_camera.fillna(5)"
   ]
  },
  {
   "cell_type": "code",
   "execution_count": 97,
   "id": "832a48c2",
   "metadata": {},
   "outputs": [],
   "source": [
    "driver11.close()"
   ]
  },
  {
   "cell_type": "code",
   "execution_count": 98,
   "id": "4569ed0f",
   "metadata": {},
   "outputs": [],
   "source": [
    "driver12=webdriver.Chrome(r'C:\\Users\\user\\Downloads\\chromedriver_win32 (2)\\chromedriver.exe')\n",
    "time.sleep(2)"
   ]
  },
  {
   "cell_type": "code",
   "execution_count": 99,
   "id": "21ad0aef",
   "metadata": {},
   "outputs": [],
   "source": [
    "url='https://www.amazon.in/stores/page/preview/ref=s9_acss_bw_cg_HP_5a1_w?isPreview=1&isSlp=1&asins=B0B6P3PRQR%2CB0B6PW8H9Y%2CB0B6NYX191&pf_rd_m=A1K21FY43GMZF8&pf_rd_s=merchandised-search-10&pf_rd_r=9EBGFHW4CR4AFZ1KE1VD&pf_rd_t=101&pf_rd_p=92216e8f-6238-4833-8e72-ee31316d2a40&pf_rd_i=1375248031'\n",
    "driver12.get(url)"
   ]
  },
  {
   "cell_type": "code",
   "execution_count": 100,
   "id": "406e6814",
   "metadata": {},
   "outputs": [
    {
     "data": {
      "text/plain": [
       "18"
      ]
     },
     "execution_count": 100,
     "metadata": {},
     "output_type": "execute_result"
    }
   ],
   "source": [
    "cool_rate=driver12.find_element(By.XPATH,\"//a[@class='ProductShowcase__rating__8vVzW']\").get_attribute(\"title\")\n",
    "len(cool_rate)"
   ]
  },
  {
   "cell_type": "code",
   "execution_count": 101,
   "id": "b842116c",
   "metadata": {},
   "outputs": [
    {
     "data": {
      "text/plain": [
       "10"
      ]
     },
     "execution_count": 101,
     "metadata": {},
     "output_type": "execute_result"
    }
   ],
   "source": [
    "cool_review=[]\n",
    "p_review=driver12.find_elements(By.XPATH,\"//a[@class='a-size-base a-link-normal review-title a-color-base review-title-content a-text-bold']\")\n",
    "for i in p_review:\n",
    "    cool_review.append(i.text)\n",
    "len(cool_review)"
   ]
  },
  {
   "cell_type": "code",
   "execution_count": 102,
   "id": "5dce0892",
   "metadata": {},
   "outputs": [
    {
     "data": {
      "text/html": [
       "<div>\n",
       "<style scoped>\n",
       "    .dataframe tbody tr th:only-of-type {\n",
       "        vertical-align: middle;\n",
       "    }\n",
       "\n",
       "    .dataframe tbody tr th {\n",
       "        vertical-align: top;\n",
       "    }\n",
       "\n",
       "    .dataframe thead th {\n",
       "        text-align: right;\n",
       "    }\n",
       "</style>\n",
       "<table border=\"1\" class=\"dataframe\">\n",
       "  <thead>\n",
       "    <tr style=\"text-align: right;\">\n",
       "      <th></th>\n",
       "      <th>Rating</th>\n",
       "      <th>Reviews</th>\n",
       "    </tr>\n",
       "  </thead>\n",
       "  <tbody>\n",
       "    <tr>\n",
       "      <th>0</th>\n",
       "      <td>4</td>\n",
       "      <td>Small fans are exhaust</td>\n",
       "    </tr>\n",
       "    <tr>\n",
       "      <th>1</th>\n",
       "      <td>4</td>\n",
       "      <td>Good product but overprized</td>\n",
       "    </tr>\n",
       "    <tr>\n",
       "      <th>2</th>\n",
       "      <td>4</td>\n",
       "      <td>This design puts your health on first priority.</td>\n",
       "    </tr>\n",
       "    <tr>\n",
       "      <th>3</th>\n",
       "      <td>4</td>\n",
       "      <td>Fully Satisfied!</td>\n",
       "    </tr>\n",
       "    <tr>\n",
       "      <th>4</th>\n",
       "      <td>4</td>\n",
       "      <td>Totally Worth It!</td>\n",
       "    </tr>\n",
       "    <tr>\n",
       "      <th>5</th>\n",
       "      <td>4</td>\n",
       "      <td>Great product for laptop</td>\n",
       "    </tr>\n",
       "    <tr>\n",
       "      <th>6</th>\n",
       "      <td>4</td>\n",
       "      <td>Absolutely Amazing</td>\n",
       "    </tr>\n",
       "    <tr>\n",
       "      <th>7</th>\n",
       "      <td>4</td>\n",
       "      <td>Durable with Premium Features</td>\n",
       "    </tr>\n",
       "    <tr>\n",
       "      <th>8</th>\n",
       "      <td>4</td>\n",
       "      <td>Good Build Quality</td>\n",
       "    </tr>\n",
       "    <tr>\n",
       "      <th>9</th>\n",
       "      <td>4</td>\n",
       "      <td>Great Product!</td>\n",
       "    </tr>\n",
       "  </tbody>\n",
       "</table>\n",
       "</div>"
      ],
      "text/plain": [
       "   Rating                                          Reviews\n",
       "0       4                           Small fans are exhaust\n",
       "1       4                      Good product but overprized\n",
       "2       4  This design puts your health on first priority.\n",
       "3       4                                 Fully Satisfied!\n",
       "4       4                                Totally Worth It!\n",
       "5       4                         Great product for laptop\n",
       "6       4                               Absolutely Amazing\n",
       "7       4                    Durable with Premium Features\n",
       "8       4                               Good Build Quality\n",
       "9       4                                   Great Product!"
      ]
     },
     "execution_count": 102,
     "metadata": {},
     "output_type": "execute_result"
    }
   ],
   "source": [
    "cooling_pad=pd.DataFrame()\n",
    "cooling_pad['Rating']=cool_rate[0:10]\n",
    "cooling_pad['Reviews']=cool_review\n",
    "cooling_pad.fillna(4)"
   ]
  },
  {
   "cell_type": "code",
   "execution_count": 103,
   "id": "1ac80d1d",
   "metadata": {},
   "outputs": [],
   "source": [
    "driver12.close()"
   ]
  },
  {
   "cell_type": "code",
   "execution_count": 104,
   "id": "dca92325",
   "metadata": {},
   "outputs": [],
   "source": [
    "driver13=webdriver.Chrome(r'C:\\Users\\user\\Downloads\\chromedriver_win32 (2)\\chromedriver.exe')\n",
    "time.sleep(2)"
   ]
  },
  {
   "cell_type": "code",
   "execution_count": 105,
   "id": "ef1f3086",
   "metadata": {},
   "outputs": [],
   "source": [
    "url='https://www.amazon.in/stores/page/2BDB9013-C37A-4AEF-B7A2-518D9F777787?ingress=2&visitId=93481bb1-8226-4a2a-b78a-4638bd4acbe8&ref_=ast_bln'\n",
    "driver13.get(url)"
   ]
  },
  {
   "cell_type": "code",
   "execution_count": 107,
   "id": "221d4cfb",
   "metadata": {},
   "outputs": [
    {
     "data": {
      "text/plain": [
       "18"
      ]
     },
     "execution_count": 107,
     "metadata": {},
     "output_type": "execute_result"
    }
   ],
   "source": [
    "air_rate=driver13.find_element(By.XPATH,\"//a[@class='ProductShowcase__rating__8vVzW']\").get_attribute(\"title\")\n",
    "len(air_rate)"
   ]
  },
  {
   "cell_type": "code",
   "execution_count": 108,
   "id": "a341197c",
   "metadata": {},
   "outputs": [
    {
     "data": {
      "text/plain": [
       "10"
      ]
     },
     "execution_count": 108,
     "metadata": {},
     "output_type": "execute_result"
    }
   ],
   "source": [
    "air_review=[]\n",
    "po_review=driver13.find_elements(By.XPATH,\"//a[@class='a-size-base a-link-normal review-title a-color-base review-title-content a-text-bold']\")\n",
    "for i in po_review:\n",
    "    air_review.append(i.text)\n",
    "len(air_review)"
   ]
  },
  {
   "cell_type": "code",
   "execution_count": 111,
   "id": "e3e2c99f",
   "metadata": {},
   "outputs": [
    {
     "data": {
      "text/html": [
       "<div>\n",
       "<style scoped>\n",
       "    .dataframe tbody tr th:only-of-type {\n",
       "        vertical-align: middle;\n",
       "    }\n",
       "\n",
       "    .dataframe tbody tr th {\n",
       "        vertical-align: top;\n",
       "    }\n",
       "\n",
       "    .dataframe thead th {\n",
       "        text-align: right;\n",
       "    }\n",
       "</style>\n",
       "<table border=\"1\" class=\"dataframe\">\n",
       "  <thead>\n",
       "    <tr style=\"text-align: right;\">\n",
       "      <th></th>\n",
       "      <th>Rating</th>\n",
       "      <th>Reviews</th>\n",
       "    </tr>\n",
       "  </thead>\n",
       "  <tbody>\n",
       "    <tr>\n",
       "      <th>0</th>\n",
       "      <td>4</td>\n",
       "      <td>Good</td>\n",
       "    </tr>\n",
       "    <tr>\n",
       "      <th>1</th>\n",
       "      <td>4</td>\n",
       "      <td>Awesome earbuds in this range 👍👍</td>\n",
       "    </tr>\n",
       "    <tr>\n",
       "      <th>2</th>\n",
       "      <td>4</td>\n",
       "      <td>Value for Money</td>\n",
       "    </tr>\n",
       "    <tr>\n",
       "      <th>3</th>\n",
       "      <td>4</td>\n",
       "      <td>Value for money</td>\n",
       "    </tr>\n",
       "    <tr>\n",
       "      <th>4</th>\n",
       "      <td>4</td>\n",
       "      <td>Overall a great product, ears hurt after using...</td>\n",
       "    </tr>\n",
       "    <tr>\n",
       "      <th>5</th>\n",
       "      <td>4</td>\n",
       "      <td>Good sound.</td>\n",
       "    </tr>\n",
       "    <tr>\n",
       "      <th>6</th>\n",
       "      <td>4</td>\n",
       "      <td>It's worth the cost . The sound quality is good.</td>\n",
       "    </tr>\n",
       "    <tr>\n",
       "      <th>7</th>\n",
       "      <td>4</td>\n",
       "      <td>Good products</td>\n",
       "    </tr>\n",
       "    <tr>\n",
       "      <th>8</th>\n",
       "      <td>4</td>\n",
       "      <td>Okay quality</td>\n",
       "    </tr>\n",
       "    <tr>\n",
       "      <th>9</th>\n",
       "      <td>4</td>\n",
       "      <td>Good</td>\n",
       "    </tr>\n",
       "  </tbody>\n",
       "</table>\n",
       "</div>"
      ],
      "text/plain": [
       "   Rating                                            Reviews\n",
       "0       4                                               Good\n",
       "1       4                   Awesome earbuds in this range 👍👍\n",
       "2       4                                    Value for Money\n",
       "3       4                                    Value for money\n",
       "4       4  Overall a great product, ears hurt after using...\n",
       "5       4                                        Good sound.\n",
       "6       4   It's worth the cost . The sound quality is good.\n",
       "7       4                                      Good products\n",
       "8       4                                       Okay quality\n",
       "9       4                                               Good"
      ]
     },
     "execution_count": 111,
     "metadata": {},
     "output_type": "execute_result"
    }
   ],
   "source": [
    "airdopes=pd.DataFrame()\n",
    "airdopes['Rating']=air_rate[0:10]\n",
    "airdopes['Reviews']=air_review\n",
    "airdopes.fillna(4)"
   ]
  },
  {
   "cell_type": "code",
   "execution_count": 112,
   "id": "560a8256",
   "metadata": {},
   "outputs": [],
   "source": [
    "driver13.close()"
   ]
  },
  {
   "cell_type": "code",
   "execution_count": 113,
   "id": "d71e4f3f",
   "metadata": {},
   "outputs": [],
   "source": [
    "driver14=webdriver.Chrome(r'C:\\Users\\user\\Downloads\\chromedriver_win32 (2)\\chromedriver.exe')\n",
    "time.sleep(2)"
   ]
  },
  {
   "cell_type": "code",
   "execution_count": 114,
   "id": "94e2ced9",
   "metadata": {},
   "outputs": [],
   "source": [
    "url='https://www.flipkart.com/fashion-story-rechargeable-electronic-toothbrush-6-modes-4-brush-heads-fast-charging-electric/product-reviews/itmf4cf83aed1717?pid=ETBGFZDPPWS9RGU2&lid=LSTETBGFZDPPWS9RGU2EBVBEF&marketplace=FLIPKART'\n",
    "driver14.get(url)"
   ]
  },
  {
   "cell_type": "code",
   "execution_count": 115,
   "id": "ec87be40",
   "metadata": {},
   "outputs": [
    {
     "data": {
      "text/plain": [
       "6"
      ]
     },
     "execution_count": 115,
     "metadata": {},
     "output_type": "execute_result"
    }
   ],
   "source": [
    "b_rate=[]\n",
    "rate_electric=driver14.find_elements(By.XPATH,\"//div[@class='_3LWZlK _1BLPMq']\")\n",
    "for i in rate_electric:\n",
    "    b_rate.append(i.text)\n",
    "len(b_rate)    "
   ]
  },
  {
   "cell_type": "code",
   "execution_count": 116,
   "id": "2208ec37",
   "metadata": {},
   "outputs": [
    {
     "data": {
      "text/plain": [
       "7"
      ]
     },
     "execution_count": 116,
     "metadata": {},
     "output_type": "execute_result"
    }
   ],
   "source": [
    "b_review=[]\n",
    "review_electric=driver14.find_elements(By.XPATH,\"//p[@class='_2-N8zT']\")\n",
    "for i in review_electric:\n",
    "    b_review.append(i.text)\n",
    "len(b_review)    "
   ]
  },
  {
   "cell_type": "code",
   "execution_count": 117,
   "id": "05b36204",
   "metadata": {},
   "outputs": [
    {
     "data": {
      "text/html": [
       "<div>\n",
       "<style scoped>\n",
       "    .dataframe tbody tr th:only-of-type {\n",
       "        vertical-align: middle;\n",
       "    }\n",
       "\n",
       "    .dataframe tbody tr th {\n",
       "        vertical-align: top;\n",
       "    }\n",
       "\n",
       "    .dataframe thead th {\n",
       "        text-align: right;\n",
       "    }\n",
       "</style>\n",
       "<table border=\"1\" class=\"dataframe\">\n",
       "  <thead>\n",
       "    <tr style=\"text-align: right;\">\n",
       "      <th></th>\n",
       "      <th>Rating</th>\n",
       "      <th>Reviews</th>\n",
       "    </tr>\n",
       "  </thead>\n",
       "  <tbody>\n",
       "    <tr>\n",
       "      <th>0</th>\n",
       "      <td>4</td>\n",
       "      <td>Wonderful</td>\n",
       "    </tr>\n",
       "    <tr>\n",
       "      <th>1</th>\n",
       "      <td>5</td>\n",
       "      <td>Excellent</td>\n",
       "    </tr>\n",
       "    <tr>\n",
       "      <th>2</th>\n",
       "      <td>5</td>\n",
       "      <td>Perfect product!</td>\n",
       "    </tr>\n",
       "    <tr>\n",
       "      <th>3</th>\n",
       "      <td>5</td>\n",
       "      <td>Just wow!</td>\n",
       "    </tr>\n",
       "    <tr>\n",
       "      <th>4</th>\n",
       "      <td>3</td>\n",
       "      <td>Not recommended at all</td>\n",
       "    </tr>\n",
       "    <tr>\n",
       "      <th>5</th>\n",
       "      <td>4</td>\n",
       "      <td>Does the job</td>\n",
       "    </tr>\n",
       "  </tbody>\n",
       "</table>\n",
       "</div>"
      ],
      "text/plain": [
       "  Rating                 Reviews\n",
       "0      4               Wonderful\n",
       "1      5               Excellent\n",
       "2      5        Perfect product!\n",
       "3      5               Just wow!\n",
       "4      3  Not recommended at all\n",
       "5      4            Does the job"
      ]
     },
     "execution_count": 117,
     "metadata": {},
     "output_type": "execute_result"
    }
   ],
   "source": [
    "electric_brush=pd.DataFrame()\n",
    "electric_brush['Rating']=b_rate\n",
    "electric_brush['Reviews']=b_review[0:6]\n",
    "electric_brush"
   ]
  },
  {
   "cell_type": "code",
   "execution_count": 118,
   "id": "82e5e5da",
   "metadata": {},
   "outputs": [],
   "source": [
    "driver14.close()"
   ]
  },
  {
   "cell_type": "code",
   "execution_count": 119,
   "id": "0c48d1e9",
   "metadata": {},
   "outputs": [],
   "source": [
    "driver15=webdriver.Chrome(r'C:\\Users\\user\\Downloads\\chromedriver_win32 (2)\\chromedriver.exe')\n",
    "time.sleep(2)"
   ]
  },
  {
   "cell_type": "code",
   "execution_count": 120,
   "id": "7ac51f1a",
   "metadata": {},
   "outputs": [],
   "source": [
    "url='https://www.flipkart.com/canon-eos-3000d-dslr-camera-1-body-18-55-mm-lens/product-reviews/itm6f665fea97bc2?pid=CAMF3DHJURPEMNRN&lid=LSTCAMF3DHJURPEMNRN8AVERV&marketplace=FLIPKART'\n",
    "driver15.get(url)"
   ]
  },
  {
   "cell_type": "code",
   "execution_count": 122,
   "id": "727d165b",
   "metadata": {},
   "outputs": [
    {
     "data": {
      "text/plain": [
       "10"
      ]
     },
     "execution_count": 122,
     "metadata": {},
     "output_type": "execute_result"
    }
   ],
   "source": [
    "ca_rate=[]\n",
    "d_rate=driver15.find_elements(By.XPATH,\"//div[@class='_3LWZlK _1BLPMq']\")\n",
    "for i in d_rate:\n",
    "    ca_rate.append(i.text)\n",
    "len(ca_rate)"
   ]
  },
  {
   "cell_type": "code",
   "execution_count": 123,
   "id": "df449d29",
   "metadata": {},
   "outputs": [
    {
     "data": {
      "text/plain": [
       "10"
      ]
     },
     "execution_count": 123,
     "metadata": {},
     "output_type": "execute_result"
    }
   ],
   "source": [
    "ca_review=[]\n",
    "d_review=driver15.find_elements(By.XPATH,\"//p[@class='_2-N8zT']\")\n",
    "for i in d_review:\n",
    "    ca_review.append(i.text)\n",
    "len(ca_review)"
   ]
  },
  {
   "cell_type": "code",
   "execution_count": 124,
   "id": "04b20ae4",
   "metadata": {},
   "outputs": [
    {
     "data": {
      "text/html": [
       "<div>\n",
       "<style scoped>\n",
       "    .dataframe tbody tr th:only-of-type {\n",
       "        vertical-align: middle;\n",
       "    }\n",
       "\n",
       "    .dataframe tbody tr th {\n",
       "        vertical-align: top;\n",
       "    }\n",
       "\n",
       "    .dataframe thead th {\n",
       "        text-align: right;\n",
       "    }\n",
       "</style>\n",
       "<table border=\"1\" class=\"dataframe\">\n",
       "  <thead>\n",
       "    <tr style=\"text-align: right;\">\n",
       "      <th></th>\n",
       "      <th>Rating</th>\n",
       "      <th>Reviews</th>\n",
       "    </tr>\n",
       "  </thead>\n",
       "  <tbody>\n",
       "    <tr>\n",
       "      <th>0</th>\n",
       "      <td>5</td>\n",
       "      <td>Must buy!</td>\n",
       "    </tr>\n",
       "    <tr>\n",
       "      <th>1</th>\n",
       "      <td>4</td>\n",
       "      <td>Really Nice</td>\n",
       "    </tr>\n",
       "    <tr>\n",
       "      <th>2</th>\n",
       "      <td>5</td>\n",
       "      <td>Excellent</td>\n",
       "    </tr>\n",
       "    <tr>\n",
       "      <th>3</th>\n",
       "      <td>3</td>\n",
       "      <td>Does the job</td>\n",
       "    </tr>\n",
       "    <tr>\n",
       "      <th>4</th>\n",
       "      <td>5</td>\n",
       "      <td>Just wow!</td>\n",
       "    </tr>\n",
       "    <tr>\n",
       "      <th>5</th>\n",
       "      <td>4</td>\n",
       "      <td>Worth the money</td>\n",
       "    </tr>\n",
       "    <tr>\n",
       "      <th>6</th>\n",
       "      <td>5</td>\n",
       "      <td>Great product</td>\n",
       "    </tr>\n",
       "    <tr>\n",
       "      <th>7</th>\n",
       "      <td>4</td>\n",
       "      <td>Really Nice</td>\n",
       "    </tr>\n",
       "    <tr>\n",
       "      <th>8</th>\n",
       "      <td>4</td>\n",
       "      <td>Good quality product</td>\n",
       "    </tr>\n",
       "    <tr>\n",
       "      <th>9</th>\n",
       "      <td>5</td>\n",
       "      <td>Best in the market!</td>\n",
       "    </tr>\n",
       "  </tbody>\n",
       "</table>\n",
       "</div>"
      ],
      "text/plain": [
       "  Rating               Reviews\n",
       "0      5             Must buy!\n",
       "1      4           Really Nice\n",
       "2      5             Excellent\n",
       "3      3          Does the job\n",
       "4      5             Just wow!\n",
       "5      4       Worth the money\n",
       "6      5         Great product\n",
       "7      4           Really Nice\n",
       "8      4  Good quality product\n",
       "9      5   Best in the market!"
      ]
     },
     "execution_count": 124,
     "metadata": {},
     "output_type": "execute_result"
    }
   ],
   "source": [
    "DSLR=pd.DataFrame()\n",
    "DSLR['Rating']=ca_rate\n",
    "DSLR['Reviews']=ca_review\n",
    "DSLR"
   ]
  },
  {
   "cell_type": "code",
   "execution_count": 127,
   "id": "c1eb6c3b",
   "metadata": {},
   "outputs": [],
   "source": [
    "driver15.close()"
   ]
  },
  {
   "cell_type": "code",
   "execution_count": 128,
   "id": "865e7dde",
   "metadata": {},
   "outputs": [],
   "source": [
    "driver16=webdriver.Chrome(r'C:\\Users\\user\\Downloads\\chromedriver_win32 (2)\\chromedriver.exe')\n",
    "time.sleep(2)"
   ]
  },
  {
   "cell_type": "code",
   "execution_count": 129,
   "id": "36da6312",
   "metadata": {},
   "outputs": [],
   "source": [
    "url='https://www.flipkart.com/ikigai-japanese-secret-long-happy-life/product-reviews/itma5a3a3dd292df?pid=9781786330895&lid=LSTBOK9781786330895HQGF7J&marketplace=FLIPKART'\n",
    "driver16.get(url)"
   ]
  },
  {
   "cell_type": "code",
   "execution_count": 130,
   "id": "09d3ab57",
   "metadata": {},
   "outputs": [
    {
     "data": {
      "text/plain": [
       "9"
      ]
     },
     "execution_count": 130,
     "metadata": {},
     "output_type": "execute_result"
    }
   ],
   "source": [
    "bo_rate=[]\n",
    "non_rate=driver16.find_elements(By.XPATH,\"//div[@class='_3LWZlK _1BLPMq']\")\n",
    "for i in non_rate:\n",
    "    bo_rate.append(i.text)\n",
    "len(bo_rate)"
   ]
  },
  {
   "cell_type": "code",
   "execution_count": 135,
   "id": "2cfc744f",
   "metadata": {},
   "outputs": [
    {
     "data": {
      "text/plain": [
       "10"
      ]
     },
     "execution_count": 135,
     "metadata": {},
     "output_type": "execute_result"
    }
   ],
   "source": [
    "bo_review=[]\n",
    "non_review=driver16.find_elements(By.XPATH,\"//p[@class='_2-N8zT']\")\n",
    "for i in non_review:\n",
    "    bo_review.append(i.text)\n",
    "len(bo_review)"
   ]
  },
  {
   "cell_type": "code",
   "execution_count": 179,
   "id": "5463f5eb",
   "metadata": {},
   "outputs": [
    {
     "data": {
      "text/html": [
       "<div>\n",
       "<style scoped>\n",
       "    .dataframe tbody tr th:only-of-type {\n",
       "        vertical-align: middle;\n",
       "    }\n",
       "\n",
       "    .dataframe tbody tr th {\n",
       "        vertical-align: top;\n",
       "    }\n",
       "\n",
       "    .dataframe thead th {\n",
       "        text-align: right;\n",
       "    }\n",
       "</style>\n",
       "<table border=\"1\" class=\"dataframe\">\n",
       "  <thead>\n",
       "    <tr style=\"text-align: right;\">\n",
       "      <th></th>\n",
       "      <th>Rating</th>\n",
       "      <th>Reviews</th>\n",
       "    </tr>\n",
       "  </thead>\n",
       "  <tbody>\n",
       "    <tr>\n",
       "      <th>0</th>\n",
       "      <td>5</td>\n",
       "      <td>goodread!!</td>\n",
       "    </tr>\n",
       "    <tr>\n",
       "      <th>1</th>\n",
       "      <td>5</td>\n",
       "      <td>Super!</td>\n",
       "    </tr>\n",
       "    <tr>\n",
       "      <th>2</th>\n",
       "      <td>5</td>\n",
       "      <td>Brilliant</td>\n",
       "    </tr>\n",
       "    <tr>\n",
       "      <th>3</th>\n",
       "      <td>5</td>\n",
       "      <td>Highly recommended</td>\n",
       "    </tr>\n",
       "    <tr>\n",
       "      <th>4</th>\n",
       "      <td>5</td>\n",
       "      <td>Simply awesome</td>\n",
       "    </tr>\n",
       "    <tr>\n",
       "      <th>5</th>\n",
       "      <td>5</td>\n",
       "      <td>Just wow!</td>\n",
       "    </tr>\n",
       "    <tr>\n",
       "      <th>6</th>\n",
       "      <td>5</td>\n",
       "      <td>A waste of time, collection of general advice,...</td>\n",
       "    </tr>\n",
       "    <tr>\n",
       "      <th>7</th>\n",
       "      <td>5</td>\n",
       "      <td>Perfect product!</td>\n",
       "    </tr>\n",
       "    <tr>\n",
       "      <th>8</th>\n",
       "      <td>5</td>\n",
       "      <td>Excellent</td>\n",
       "    </tr>\n",
       "  </tbody>\n",
       "</table>\n",
       "</div>"
      ],
      "text/plain": [
       "  Rating                                            Reviews\n",
       "0      5                                         goodread!!\n",
       "1      5                                             Super!\n",
       "2      5                                          Brilliant\n",
       "3      5                                 Highly recommended\n",
       "4      5                                     Simply awesome\n",
       "5      5                                          Just wow!\n",
       "6      5  A waste of time, collection of general advice,...\n",
       "7      5                                   Perfect product!\n",
       "8      5                                          Excellent"
      ]
     },
     "execution_count": 179,
     "metadata": {},
     "output_type": "execute_result"
    }
   ],
   "source": [
    "non_fiction=pd.DataFrame()\n",
    "non_fiction['Rating']=bo_rate\n",
    "non_fiction['Reviews']=bo_review[0:9]\n",
    "non_fiction"
   ]
  },
  {
   "cell_type": "code",
   "execution_count": 139,
   "id": "454077df",
   "metadata": {},
   "outputs": [],
   "source": [
    "driver16.close()"
   ]
  },
  {
   "cell_type": "code",
   "execution_count": 140,
   "id": "d6458f32",
   "metadata": {},
   "outputs": [],
   "source": [
    "driver17=webdriver.Chrome(r'C:\\Users\\user\\Downloads\\chromedriver_win32 (2)\\chromedriver.exe')\n",
    "time.sleep(2)"
   ]
  },
  {
   "cell_type": "code",
   "execution_count": 141,
   "id": "622a77e2",
   "metadata": {},
   "outputs": [],
   "source": [
    "url='https://www.flipkart.com/psychology-money-morgen-housel/product-reviews/itm37e3b5ac4740b?pid=9789390166268&lid=LSTBOK9789390166268W7PJT8&marketplace=FLIPKART'\n",
    "driver17.get(url)"
   ]
  },
  {
   "cell_type": "code",
   "execution_count": 142,
   "id": "892bd7ba",
   "metadata": {},
   "outputs": [
    {
     "data": {
      "text/plain": [
       "10"
      ]
     },
     "execution_count": 142,
     "metadata": {},
     "output_type": "execute_result"
    }
   ],
   "source": [
    "self_rate=[]\n",
    "help_rate=driver17.find_elements(By.XPATH,\"//div[@class='_3LWZlK _1BLPMq']\")\n",
    "for i in help_rate:\n",
    "    self_rate.append(i.text)\n",
    "len(self_rate)"
   ]
  },
  {
   "cell_type": "code",
   "execution_count": 143,
   "id": "7f4b9e0b",
   "metadata": {},
   "outputs": [
    {
     "data": {
      "text/plain": [
       "10"
      ]
     },
     "execution_count": 143,
     "metadata": {},
     "output_type": "execute_result"
    }
   ],
   "source": [
    "self_review=[]\n",
    "help_review=driver17.find_elements(By.XPATH,\"//p[@class='_2-N8zT']\")\n",
    "for i in help_review:\n",
    "    self_review.append(i.text)\n",
    "len(self_review)"
   ]
  },
  {
   "cell_type": "code",
   "execution_count": 180,
   "id": "eeafd0eb",
   "metadata": {},
   "outputs": [
    {
     "data": {
      "text/html": [
       "<div>\n",
       "<style scoped>\n",
       "    .dataframe tbody tr th:only-of-type {\n",
       "        vertical-align: middle;\n",
       "    }\n",
       "\n",
       "    .dataframe tbody tr th {\n",
       "        vertical-align: top;\n",
       "    }\n",
       "\n",
       "    .dataframe thead th {\n",
       "        text-align: right;\n",
       "    }\n",
       "</style>\n",
       "<table border=\"1\" class=\"dataframe\">\n",
       "  <thead>\n",
       "    <tr style=\"text-align: right;\">\n",
       "      <th></th>\n",
       "      <th>Rating</th>\n",
       "      <th>Reviews</th>\n",
       "    </tr>\n",
       "  </thead>\n",
       "  <tbody>\n",
       "    <tr>\n",
       "      <th>0</th>\n",
       "      <td>5</td>\n",
       "      <td>Brilliant</td>\n",
       "    </tr>\n",
       "    <tr>\n",
       "      <th>1</th>\n",
       "      <td>5</td>\n",
       "      <td>Simply awesome</td>\n",
       "    </tr>\n",
       "    <tr>\n",
       "      <th>2</th>\n",
       "      <td>5</td>\n",
       "      <td>Just wow!</td>\n",
       "    </tr>\n",
       "    <tr>\n",
       "      <th>3</th>\n",
       "      <td>4</td>\n",
       "      <td>Value-for-money</td>\n",
       "    </tr>\n",
       "    <tr>\n",
       "      <th>4</th>\n",
       "      <td>5</td>\n",
       "      <td>Wonderful</td>\n",
       "    </tr>\n",
       "    <tr>\n",
       "      <th>5</th>\n",
       "      <td>5</td>\n",
       "      <td>Brilliant</td>\n",
       "    </tr>\n",
       "    <tr>\n",
       "      <th>6</th>\n",
       "      <td>5</td>\n",
       "      <td>Wonderful</td>\n",
       "    </tr>\n",
       "    <tr>\n",
       "      <th>7</th>\n",
       "      <td>5</td>\n",
       "      <td>Simply awesome</td>\n",
       "    </tr>\n",
       "    <tr>\n",
       "      <th>8</th>\n",
       "      <td>5</td>\n",
       "      <td>Terrific purchase</td>\n",
       "    </tr>\n",
       "    <tr>\n",
       "      <th>9</th>\n",
       "      <td>4</td>\n",
       "      <td>Pretty good</td>\n",
       "    </tr>\n",
       "  </tbody>\n",
       "</table>\n",
       "</div>"
      ],
      "text/plain": [
       "  Rating            Reviews\n",
       "0      5          Brilliant\n",
       "1      5     Simply awesome\n",
       "2      5          Just wow!\n",
       "3      4    Value-for-money\n",
       "4      5          Wonderful\n",
       "5      5          Brilliant\n",
       "6      5          Wonderful\n",
       "7      5     Simply awesome\n",
       "8      5  Terrific purchase\n",
       "9      4        Pretty good"
      ]
     },
     "execution_count": 180,
     "metadata": {},
     "output_type": "execute_result"
    }
   ],
   "source": [
    "self_help_book=pd.DataFrame()\n",
    "self_help_book['Rating']=self_rate\n",
    "self_help_book['Reviews']=self_review\n",
    "self_help_book"
   ]
  },
  {
   "cell_type": "code",
   "execution_count": 145,
   "id": "e9c43a64",
   "metadata": {},
   "outputs": [],
   "source": [
    "driver17.close()"
   ]
  },
  {
   "cell_type": "code",
   "execution_count": 146,
   "id": "a75895c8",
   "metadata": {},
   "outputs": [],
   "source": [
    "driver18=webdriver.Chrome(r'C:\\Users\\user\\Downloads\\chromedriver_win32 (2)\\chromedriver.exe')\n",
    "time.sleep(2)"
   ]
  },
  {
   "cell_type": "code",
   "execution_count": 147,
   "id": "a69573d1",
   "metadata": {},
   "outputs": [],
   "source": [
    "url='https://www.flipkart.com/mi-3i-20000-mah-power-bank-fast-charging-18w/product-reviews/itmd42cbbe08e65e?pid=PWBFVGXXFGEBYRF5&lid=LSTPWBFVGXXFGEBYRF514LSY9&marketplace=FLIPKART'\n",
    "driver18.get(url)"
   ]
  },
  {
   "cell_type": "code",
   "execution_count": 148,
   "id": "2db60c8c",
   "metadata": {},
   "outputs": [
    {
     "data": {
      "text/plain": [
       "9"
      ]
     },
     "execution_count": 148,
     "metadata": {},
     "output_type": "execute_result"
    }
   ],
   "source": [
    "power_rate=[]\n",
    "rating=driver18.find_elements(By.XPATH,\"//div[@class='_3LWZlK _1BLPMq']\")\n",
    "for i in rating:\n",
    "    power_rate.append(i.text)\n",
    "len(power_rate)"
   ]
  },
  {
   "cell_type": "code",
   "execution_count": 150,
   "id": "e01fb990",
   "metadata": {},
   "outputs": [
    {
     "data": {
      "text/plain": [
       "10"
      ]
     },
     "execution_count": 150,
     "metadata": {},
     "output_type": "execute_result"
    }
   ],
   "source": [
    "power_review=[]\n",
    "reviews=driver18.find_elements(By.XPATH,\"//p[@class='_2-N8zT']\")\n",
    "for i in reviews:\n",
    "    power_review.append(i.text)\n",
    "len(power_review)"
   ]
  },
  {
   "cell_type": "code",
   "execution_count": 151,
   "id": "b269c7b0",
   "metadata": {},
   "outputs": [
    {
     "data": {
      "text/html": [
       "<div>\n",
       "<style scoped>\n",
       "    .dataframe tbody tr th:only-of-type {\n",
       "        vertical-align: middle;\n",
       "    }\n",
       "\n",
       "    .dataframe tbody tr th {\n",
       "        vertical-align: top;\n",
       "    }\n",
       "\n",
       "    .dataframe thead th {\n",
       "        text-align: right;\n",
       "    }\n",
       "</style>\n",
       "<table border=\"1\" class=\"dataframe\">\n",
       "  <thead>\n",
       "    <tr style=\"text-align: right;\">\n",
       "      <th></th>\n",
       "      <th>Rating</th>\n",
       "      <th>Reviews</th>\n",
       "    </tr>\n",
       "  </thead>\n",
       "  <tbody>\n",
       "    <tr>\n",
       "      <th>0</th>\n",
       "      <td>4</td>\n",
       "      <td>Nice product</td>\n",
       "    </tr>\n",
       "    <tr>\n",
       "      <th>1</th>\n",
       "      <td>4</td>\n",
       "      <td>Good quality product</td>\n",
       "    </tr>\n",
       "    <tr>\n",
       "      <th>2</th>\n",
       "      <td>5</td>\n",
       "      <td>Fabulous!</td>\n",
       "    </tr>\n",
       "    <tr>\n",
       "      <th>3</th>\n",
       "      <td>5</td>\n",
       "      <td>Super!</td>\n",
       "    </tr>\n",
       "    <tr>\n",
       "      <th>4</th>\n",
       "      <td>5</td>\n",
       "      <td>Must buy!</td>\n",
       "    </tr>\n",
       "    <tr>\n",
       "      <th>5</th>\n",
       "      <td>5</td>\n",
       "      <td>Must buy!</td>\n",
       "    </tr>\n",
       "    <tr>\n",
       "      <th>6</th>\n",
       "      <td>5</td>\n",
       "      <td>Bad quality</td>\n",
       "    </tr>\n",
       "    <tr>\n",
       "      <th>7</th>\n",
       "      <td>4</td>\n",
       "      <td>Highly recommended</td>\n",
       "    </tr>\n",
       "    <tr>\n",
       "      <th>8</th>\n",
       "      <td>5</td>\n",
       "      <td>Wonderful</td>\n",
       "    </tr>\n",
       "  </tbody>\n",
       "</table>\n",
       "</div>"
      ],
      "text/plain": [
       "  Rating               Reviews\n",
       "0      4          Nice product\n",
       "1      4  Good quality product\n",
       "2      5             Fabulous!\n",
       "3      5                Super!\n",
       "4      5             Must buy!\n",
       "5      5             Must buy!\n",
       "6      5           Bad quality\n",
       "7      4    Highly recommended\n",
       "8      5             Wonderful"
      ]
     },
     "execution_count": 151,
     "metadata": {},
     "output_type": "execute_result"
    }
   ],
   "source": [
    "powerbanks=pd.DataFrame()\n",
    "powerbanks['Rating']=power_rate\n",
    "powerbanks['Reviews']=power_review[0:9]\n",
    "powerbanks"
   ]
  },
  {
   "cell_type": "code",
   "execution_count": 152,
   "id": "285bf7c4",
   "metadata": {},
   "outputs": [],
   "source": [
    "driver18.close()"
   ]
  },
  {
   "cell_type": "code",
   "execution_count": 153,
   "id": "bd904632",
   "metadata": {},
   "outputs": [],
   "source": [
    "driver19=webdriver.Chrome(r'C:\\Users\\user\\Downloads\\chromedriver_win32 (2)\\chromedriver.exe')\n",
    "time.sleep(2)"
   ]
  },
  {
   "cell_type": "code",
   "execution_count": 154,
   "id": "f2a796e2",
   "metadata": {},
   "outputs": [],
   "source": [
    "url='https://www.amazon.in/stores/page/3D50CF8C-D373-466C-BC7B-FFE561FEE79F?ingress=2&visitId=0d577d19-57ff-4862-b7fd-16c5699eea63&ref_=ast_bln'\n",
    "driver19.get(url)"
   ]
  },
  {
   "cell_type": "code",
   "execution_count": 157,
   "id": "291d7322",
   "metadata": {},
   "outputs": [
    {
     "data": {
      "text/plain": [
       "18"
      ]
     },
     "execution_count": 157,
     "metadata": {},
     "output_type": "execute_result"
    }
   ],
   "source": [
    "digit_rate=driver19.find_element(By.XPATH,\"//a[@class='ProductShowcase__rating__8vVzW']\").get_attribute('title')\n",
    "len(digit_rate)"
   ]
  },
  {
   "cell_type": "code",
   "execution_count": 159,
   "id": "87709222",
   "metadata": {},
   "outputs": [
    {
     "data": {
      "text/plain": [
       "5"
      ]
     },
     "execution_count": 159,
     "metadata": {},
     "output_type": "execute_result"
    }
   ],
   "source": [
    "digit_review=[]\n",
    "piano_review=driver19.find_elements(By.XPATH,\"//a[@class='a-size-base a-link-normal review-title a-color-base review-title-content a-text-bold']\")\n",
    "for i in piano_review:\n",
    "    digit_review.append(i.text)\n",
    "len(digit_review)"
   ]
  },
  {
   "cell_type": "code",
   "execution_count": 161,
   "id": "8a47e54a",
   "metadata": {},
   "outputs": [
    {
     "data": {
      "text/html": [
       "<div>\n",
       "<style scoped>\n",
       "    .dataframe tbody tr th:only-of-type {\n",
       "        vertical-align: middle;\n",
       "    }\n",
       "\n",
       "    .dataframe tbody tr th {\n",
       "        vertical-align: top;\n",
       "    }\n",
       "\n",
       "    .dataframe thead th {\n",
       "        text-align: right;\n",
       "    }\n",
       "</style>\n",
       "<table border=\"1\" class=\"dataframe\">\n",
       "  <thead>\n",
       "    <tr style=\"text-align: right;\">\n",
       "      <th></th>\n",
       "      <th>Rating</th>\n",
       "      <th>Reviews</th>\n",
       "    </tr>\n",
       "  </thead>\n",
       "  <tbody>\n",
       "    <tr>\n",
       "      <th>0</th>\n",
       "      <td>5</td>\n",
       "      <td>Great piece for both beginners and intermediates.</td>\n",
       "    </tr>\n",
       "    <tr>\n",
       "      <th>1</th>\n",
       "      <td>5</td>\n",
       "      <td>Good</td>\n",
       "    </tr>\n",
       "    <tr>\n",
       "      <th>2</th>\n",
       "      <td>5</td>\n",
       "      <td>Value for money</td>\n",
       "    </tr>\n",
       "    <tr>\n",
       "      <th>3</th>\n",
       "      <td>5</td>\n",
       "      <td>It is the best, loved it.</td>\n",
       "    </tr>\n",
       "    <tr>\n",
       "      <th>4</th>\n",
       "      <td>5</td>\n",
       "      <td>Music is amazing.</td>\n",
       "    </tr>\n",
       "  </tbody>\n",
       "</table>\n",
       "</div>"
      ],
      "text/plain": [
       "   Rating                                            Reviews\n",
       "0       5  Great piece for both beginners and intermediates.\n",
       "1       5                                               Good\n",
       "2       5                                    Value for money\n",
       "3       5                          It is the best, loved it.\n",
       "4       5                                  Music is amazing."
      ]
     },
     "execution_count": 161,
     "metadata": {},
     "output_type": "execute_result"
    }
   ],
   "source": [
    "piano=pd.DataFrame()\n",
    "piano['Rating']=digit_rate[0:5]\n",
    "piano['Reviews']=digit_review\n",
    "piano.fillna(5)"
   ]
  },
  {
   "cell_type": "code",
   "execution_count": 162,
   "id": "af413ce3",
   "metadata": {},
   "outputs": [],
   "source": [
    "driver19.close()"
   ]
  },
  {
   "cell_type": "code",
   "execution_count": 163,
   "id": "604e9d0b",
   "metadata": {},
   "outputs": [],
   "source": [
    "driver20=webdriver.Chrome(r'C:\\Users\\user\\Downloads\\chromedriver_win32 (2)\\chromedriver.exe')\n",
    "time.sleep(2)"
   ]
  },
  {
   "cell_type": "code",
   "execution_count": 164,
   "id": "bc0b7b82",
   "metadata": {},
   "outputs": [],
   "source": [
    "url='https://www.amazon.in/stores/page/1F91C8C8-9695-470B-981E-0F7E70D3AA50?ingress=2&visitId=d111cc5e-53ef-4c83-b48b-dbc50c6c9603&ref_=ast_bln'\n",
    "driver20.get(url)"
   ]
  },
  {
   "cell_type": "code",
   "execution_count": 167,
   "id": "68a1be2f",
   "metadata": {},
   "outputs": [
    {
     "data": {
      "text/plain": [
       "18"
      ]
     },
     "execution_count": 167,
     "metadata": {},
     "output_type": "execute_result"
    }
   ],
   "source": [
    "rate=driver20.find_element(By.XPATH,\"//a[@class='ProductShowcase__rating__8vVzW']\").get_attribute('title')\n",
    "len(rate)"
   ]
  },
  {
   "cell_type": "code",
   "execution_count": 169,
   "id": "cc3cb06b",
   "metadata": {},
   "outputs": [
    {
     "data": {
      "text/plain": [
       "10"
      ]
     },
     "execution_count": 169,
     "metadata": {},
     "output_type": "execute_result"
    }
   ],
   "source": [
    "stand=[]\n",
    "review=driver20.find_elements(By.XPATH,\"//a[@class='a-size-base a-link-normal review-title a-color-base review-title-content a-text-bold']\")\n",
    "for i in review:\n",
    "    stand.append(i.text)\n",
    "len(stand)"
   ]
  },
  {
   "cell_type": "code",
   "execution_count": 172,
   "id": "ca2c5a57",
   "metadata": {},
   "outputs": [
    {
     "data": {
      "text/html": [
       "<div>\n",
       "<style scoped>\n",
       "    .dataframe tbody tr th:only-of-type {\n",
       "        vertical-align: middle;\n",
       "    }\n",
       "\n",
       "    .dataframe tbody tr th {\n",
       "        vertical-align: top;\n",
       "    }\n",
       "\n",
       "    .dataframe thead th {\n",
       "        text-align: right;\n",
       "    }\n",
       "</style>\n",
       "<table border=\"1\" class=\"dataframe\">\n",
       "  <thead>\n",
       "    <tr style=\"text-align: right;\">\n",
       "      <th></th>\n",
       "      <th>Rating</th>\n",
       "      <th>Reviews</th>\n",
       "    </tr>\n",
       "  </thead>\n",
       "  <tbody>\n",
       "    <tr>\n",
       "      <th>0</th>\n",
       "      <td>3</td>\n",
       "      <td>Adhesive is not Good. Product utility is great.</td>\n",
       "    </tr>\n",
       "    <tr>\n",
       "      <th>1</th>\n",
       "      <td>3</td>\n",
       "      <td>Rattles, otherwise ok</td>\n",
       "    </tr>\n",
       "    <tr>\n",
       "      <th>2</th>\n",
       "      <td>3</td>\n",
       "      <td>Not a universal holder , specially not for iPh...</td>\n",
       "    </tr>\n",
       "    <tr>\n",
       "      <th>3</th>\n",
       "      <td>3</td>\n",
       "      <td>Hopeless adssive</td>\n",
       "    </tr>\n",
       "    <tr>\n",
       "      <th>4</th>\n",
       "      <td>3</td>\n",
       "      <td>Reasonably good produ</td>\n",
       "    </tr>\n",
       "    <tr>\n",
       "      <th>5</th>\n",
       "      <td>3</td>\n",
       "      <td>Disappointing product</td>\n",
       "    </tr>\n",
       "    <tr>\n",
       "      <th>6</th>\n",
       "      <td>3</td>\n",
       "      <td>The best type in the market</td>\n",
       "    </tr>\n",
       "    <tr>\n",
       "      <th>7</th>\n",
       "      <td>3</td>\n",
       "      <td>noisy</td>\n",
       "    </tr>\n",
       "    <tr>\n",
       "      <th>8</th>\n",
       "      <td>3</td>\n",
       "      <td>Too much Costly</td>\n",
       "    </tr>\n",
       "    <tr>\n",
       "      <th>9</th>\n",
       "      <td>3</td>\n",
       "      <td>The gel is totally dry so not able to fix it o...</td>\n",
       "    </tr>\n",
       "  </tbody>\n",
       "</table>\n",
       "</div>"
      ],
      "text/plain": [
       "   Rating                                            Reviews\n",
       "0       3    Adhesive is not Good. Product utility is great.\n",
       "1       3                              Rattles, otherwise ok\n",
       "2       3  Not a universal holder , specially not for iPh...\n",
       "3       3                                   Hopeless adssive\n",
       "4       3                              Reasonably good produ\n",
       "5       3                              Disappointing product\n",
       "6       3                        The best type in the market\n",
       "7       3                                              noisy\n",
       "8       3                                    Too much Costly\n",
       "9       3  The gel is totally dry so not able to fix it o..."
      ]
     },
     "execution_count": 172,
     "metadata": {},
     "output_type": "execute_result"
    }
   ],
   "source": [
    "mobile_stand=pd.DataFrame()\n",
    "mobile_stand['Rating']=rate[0:10]\n",
    "mobile_stand['Reviews']=stand\n",
    "mobile_stand.fillna(3)"
   ]
  },
  {
   "cell_type": "code",
   "execution_count": 173,
   "id": "b0f47934",
   "metadata": {},
   "outputs": [],
   "source": [
    "driver20.close()"
   ]
  },
  {
   "cell_type": "code",
   "execution_count": 192,
   "id": "a3827820",
   "metadata": {
    "scrolled": false
   },
   "outputs": [
    {
     "name": "stdout",
     "output_type": "stream",
     "text": [
      "   Rating                                            Reviews\n",
      "0       4              Very Good camera in its price segment\n",
      "1       4  Wonderful powerpacked value for money action c...\n",
      "2       4    Great gadget at a decent price for Motovlogging\n",
      "3       4                                  GoPro on a Budget\n",
      "4       4        really reliable product at this price range\n",
      "5       4                  Nice product with suitable budget\n",
      "6       4                              Superb Quality Videos\n",
      "7       4                            Decent budget Camera!!!\n",
      "8       4                    Value for money 💰 great product\n",
      "9       4  Its my first action camera and I found it amaz...\n",
      "   Rating                                            Reviews\n",
      "0       4                     Best Budget Tri-Band Mesh Wifi\n",
      "1       4         seamlessly network between different decos\n",
      "2       4  Excellent Wifi lacks controls, The app is a pr...\n",
      "3       4  Awesomely superb. Worked well and instant conf...\n",
      "4       4                                    Wifi 6E signal?\n",
      "5       4               Rocket 🚀 performance vfm in just 20k\n",
      "6       4                                 Amazing experience\n",
      "7       4                                Excellent Mesh Wifi\n",
      "8       4                              Seamless connectivity\n",
      "9       4                      Working better than expected!\n",
      "   Rating                                            Reviews\n",
      "0       4                        Good upgrade to TV speakers\n",
      "1       4  Nice 5.1 Surround sound speaker with worst Blu...\n",
      "2       4                                          Great buy\n",
      "3       4                              Best purchase for 12K\n",
      "4       4               Best in the price segment. Go for it\n",
      "5       4                            Like the music and bass\n",
      "6       4  Got an used product. still working fine, excep...\n",
      "7       4                                       Good product\n",
      "8       4  9500WS is worth every penny. Best for this price.\n",
      "9       4                           Sound quality is So good\n",
      "  Rating             Reviews\n",
      "0      5           Brilliant\n",
      "1      5      Simply awesome\n",
      "2      5    Terrible product\n",
      "3      4           Must buy!\n",
      "4      5           Wonderful\n",
      "5      4            Terrific\n",
      "6      4        Nice product\n",
      "7      5         Good choice\n",
      "8      5  Highly recommended\n",
      "  Rating       Reviews\n",
      "0      4    Delightful\n",
      "1      3    Quite Good\n",
      "2      4  Nice product\n",
      "3      5     Excellent\n",
      "4      4  Nice product\n",
      "5      5        Super!\n",
      "6      5      Terrific\n",
      "7      5     Wonderful\n",
      "8      5     Wonderful\n",
      "9      3          Fair\n",
      "  Rating                Reviews\n",
      "0      5  Mind-blowing purchase\n",
      "1      5              Brilliant\n",
      "2      4            Good choice\n",
      "3      4           Nice product\n",
      "4      5               Terrific\n",
      "5      5              Just wow!\n",
      "6      5    Best in the market!\n",
      "7      5     Highly recommended\n",
      "8      5              Excellent\n",
      "9      5         Simply awesome\n",
      "  Rating                      Reviews\n",
      "0      5                     Terrific\n",
      "1      4              Worth the money\n",
      "2      4         Good quality product\n",
      "3      5                    Brilliant\n",
      "4      5                    Wonderful\n",
      "5      5                    Just wow!\n",
      "6      5                      Awesome\n",
      "7      3          Great one from Sony\n",
      "8      3                 Does the job\n",
      "9      5  #reviewJockey(RJ Arnab Dey)\n",
      "  Rating                Reviews\n",
      "0      5               Terrific\n",
      "1      5              Excellent\n",
      "2      5              Excellent\n",
      "3      3                   Fair\n",
      "4      4           Nice product\n",
      "5      5  Mind-blowing purchase\n",
      "6      4        Value-for-money\n",
      "7      5              Just wow!\n",
      "8      5      Terrific purchase\n",
      "9      4             Delightful\n",
      "  Rating                Reviews\n",
      "0      5          Great product\n",
      "1      4           Nice product\n",
      "2      5      Terrific purchase\n",
      "3      5                 Super!\n",
      "4      4            Good choice\n",
      "5      4   Good quality product\n",
      "6      5  Mind-blowing purchase\n",
      "7      5               Terrific\n",
      "8      5                Awesome\n",
      "9      3              Just okay\n",
      "  Rating                Reviews\n",
      "0      5  Mind-blowing purchase\n",
      "1      5  Mind-blowing purchase\n",
      "2      5              Brilliant\n",
      "3      5       Perfect product!\n",
      "4      5              Fabulous!\n",
      "5      5              Excellent\n",
      "6      4            Pretty good\n",
      "7      5         Classy product\n",
      "8      4            Pretty good\n",
      "9      5              Just wow!\n",
      "  Rating            Reviews\n",
      "0      5  Worth every penny\n",
      "1      4    Value-for-money\n",
      "2      5     Simply awesome\n",
      "3      5           Terrific\n",
      "4      5             Super!\n",
      "5      5          Must buy!\n",
      "6      5            Awesome\n",
      "7      5  Terrific purchase\n",
      "8      5     Classy product\n",
      "9      5          Wonderful\n",
      "   Rating                                            Reviews\n",
      "0       5             MEMERY CARD NOT 🚫 SPORT SAND DICK 32GB\n",
      "1       5                      Valie for money.. Recommended\n",
      "2       5  Other than initial hiccups, some (Mi Home app)...\n",
      "3       5  Box was not sealed protective film was absent ...\n",
      "4       5                          Gives a good night vision\n",
      "5       5                                      Decent camera\n",
      "6       5                                       Good product\n",
      "7       5             Best cam after trying all other brands\n",
      "8       5            Camera not working after few months use\n",
      "9       5                   Read this for easy installation.\n",
      "   Rating                                          Reviews\n",
      "0       4                           Small fans are exhaust\n",
      "1       4                      Good product but overprized\n",
      "2       4  This design puts your health on first priority.\n",
      "3       4                                 Fully Satisfied!\n",
      "4       4                                Totally Worth It!\n",
      "5       4                         Great product for laptop\n",
      "6       4                               Absolutely Amazing\n",
      "7       4                    Durable with Premium Features\n",
      "8       4                               Good Build Quality\n",
      "9       4                                   Great Product!\n",
      "   Rating                                            Reviews\n",
      "0       4                                               Good\n",
      "1       4                   Awesome earbuds in this range 👍👍\n",
      "2       4                                    Value for Money\n",
      "3       4                                    Value for money\n",
      "4       4  Overall a great product, ears hurt after using...\n",
      "5       4                                        Good sound.\n",
      "6       4   It's worth the cost . The sound quality is good.\n",
      "7       4                                      Good products\n",
      "8       4                                       Okay quality\n",
      "9       4                                               Good\n",
      "  Rating                 Reviews\n",
      "0      4               Wonderful\n",
      "1      5               Excellent\n",
      "2      5        Perfect product!\n",
      "3      5               Just wow!\n",
      "4      3  Not recommended at all\n",
      "5      4            Does the job\n",
      "  Rating               Reviews\n",
      "0      5             Must buy!\n",
      "1      4           Really Nice\n",
      "2      5             Excellent\n",
      "3      3          Does the job\n",
      "4      5             Just wow!\n",
      "5      4       Worth the money\n",
      "6      5         Great product\n",
      "7      4           Really Nice\n",
      "8      4  Good quality product\n",
      "9      5   Best in the market!\n",
      "  Rating                                            Reviews\n",
      "0      5                                         goodread!!\n",
      "1      5                                             Super!\n",
      "2      5                                          Brilliant\n",
      "3      5                                 Highly recommended\n",
      "4      5                                     Simply awesome\n",
      "5      5                                          Just wow!\n",
      "6      5  A waste of time, collection of general advice,...\n",
      "7      5                                   Perfect product!\n",
      "8      5                                          Excellent\n",
      "  Rating            Reviews\n",
      "0      5          Brilliant\n",
      "1      5     Simply awesome\n",
      "2      5          Just wow!\n",
      "3      4    Value-for-money\n",
      "4      5          Wonderful\n",
      "5      5          Brilliant\n",
      "6      5          Wonderful\n",
      "7      5     Simply awesome\n",
      "8      5  Terrific purchase\n",
      "9      4        Pretty good\n",
      "  Rating               Reviews\n",
      "0      4          Nice product\n",
      "1      4  Good quality product\n",
      "2      5             Fabulous!\n",
      "3      5                Super!\n",
      "4      5             Must buy!\n",
      "5      5             Must buy!\n",
      "6      5           Bad quality\n",
      "7      4    Highly recommended\n",
      "8      5             Wonderful\n",
      "   Rating                                            Reviews\n",
      "0       5  Great piece for both beginners and intermediates.\n",
      "1       5                                               Good\n",
      "2       5                                    Value for money\n",
      "3       5                          It is the best, loved it.\n",
      "4       5                                  Music is amazing.\n",
      "   Rating                                            Reviews\n",
      "0       3    Adhesive is not Good. Product utility is great.\n",
      "1       3                              Rattles, otherwise ok\n",
      "2       3  Not a universal holder , specially not for iPh...\n",
      "3       3                                   Hopeless adssive\n",
      "4       3                              Reasonably good produ\n",
      "5       3                              Disappointing product\n",
      "6       3                        The best type in the market\n",
      "7       3                                              noisy\n",
      "8       3                                    Too much Costly\n",
      "9       3  The gel is totally dry so not able to fix it o...\n"
     ]
    }
   ],
   "source": [
    "print(professional_camera.fillna(4))\n",
    "print(router.fillna(4))\n",
    "print(home_theatre.fillna(4))\n",
    "print(monitors)\n",
    "print(printers)\n",
    "print(smartwatches)\n",
    "print(headphones)\n",
    "print(phones)\n",
    "print(laptops)\n",
    "print(e_learning)\n",
    "print(bluetooth_speaker)\n",
    "print(security_camera.fillna(5))\n",
    "print(cooling_pad.fillna(4))\n",
    "print(airdopes.fillna(4))\n",
    "print(electric_brush)\n",
    "print(DSLR)\n",
    "print(non_fiction)\n",
    "print(self_help_book)\n",
    "print(powerbanks)\n",
    "print(piano.fillna(5))\n",
    "print(mobile_stand.fillna(3))"
   ]
  },
  {
   "cell_type": "code",
   "execution_count": 193,
   "id": "fceead50",
   "metadata": {},
   "outputs": [],
   "source": [
    "frames=[professional_camera.fillna(4),router.fillna(4),home_theatre.fillna(4),monitors,printers,smartwatches,phones,headphones,laptops,e_learning,bluetooth_speaker,security_camera.fillna(5),cooling_pad.fillna(4),airdopes.fillna(4),electric_brush,DSLR,non_fiction,self_help_book,powerbanks,piano.fillna(5),mobile_stand.fillna(3)]"
   ]
  },
  {
   "cell_type": "code",
   "execution_count": 194,
   "id": "85c66b8b",
   "metadata": {},
   "outputs": [
    {
     "data": {
      "text/html": [
       "<div>\n",
       "<style scoped>\n",
       "    .dataframe tbody tr th:only-of-type {\n",
       "        vertical-align: middle;\n",
       "    }\n",
       "\n",
       "    .dataframe tbody tr th {\n",
       "        vertical-align: top;\n",
       "    }\n",
       "\n",
       "    .dataframe thead th {\n",
       "        text-align: right;\n",
       "    }\n",
       "</style>\n",
       "<table border=\"1\" class=\"dataframe\">\n",
       "  <thead>\n",
       "    <tr style=\"text-align: right;\">\n",
       "      <th></th>\n",
       "      <th>Rating</th>\n",
       "      <th>Reviews</th>\n",
       "    </tr>\n",
       "  </thead>\n",
       "  <tbody>\n",
       "    <tr>\n",
       "      <th>0</th>\n",
       "      <td>4</td>\n",
       "      <td>Very Good camera in its price segment</td>\n",
       "    </tr>\n",
       "    <tr>\n",
       "      <th>1</th>\n",
       "      <td>4</td>\n",
       "      <td>Wonderful powerpacked value for money action c...</td>\n",
       "    </tr>\n",
       "    <tr>\n",
       "      <th>2</th>\n",
       "      <td>4</td>\n",
       "      <td>Great gadget at a decent price for Motovlogging</td>\n",
       "    </tr>\n",
       "    <tr>\n",
       "      <th>3</th>\n",
       "      <td>4</td>\n",
       "      <td>GoPro on a Budget</td>\n",
       "    </tr>\n",
       "    <tr>\n",
       "      <th>4</th>\n",
       "      <td>4</td>\n",
       "      <td>really reliable product at this price range</td>\n",
       "    </tr>\n",
       "    <tr>\n",
       "      <th>...</th>\n",
       "      <td>...</td>\n",
       "      <td>...</td>\n",
       "    </tr>\n",
       "    <tr>\n",
       "      <th>5</th>\n",
       "      <td>3</td>\n",
       "      <td>Disappointing product</td>\n",
       "    </tr>\n",
       "    <tr>\n",
       "      <th>6</th>\n",
       "      <td>3</td>\n",
       "      <td>The best type in the market</td>\n",
       "    </tr>\n",
       "    <tr>\n",
       "      <th>7</th>\n",
       "      <td>3</td>\n",
       "      <td>noisy</td>\n",
       "    </tr>\n",
       "    <tr>\n",
       "      <th>8</th>\n",
       "      <td>3</td>\n",
       "      <td>Too much Costly</td>\n",
       "    </tr>\n",
       "    <tr>\n",
       "      <th>9</th>\n",
       "      <td>3</td>\n",
       "      <td>The gel is totally dry so not able to fix it o...</td>\n",
       "    </tr>\n",
       "  </tbody>\n",
       "</table>\n",
       "<p>198 rows × 2 columns</p>\n",
       "</div>"
      ],
      "text/plain": [
       "   Rating                                            Reviews\n",
       "0       4              Very Good camera in its price segment\n",
       "1       4  Wonderful powerpacked value for money action c...\n",
       "2       4    Great gadget at a decent price for Motovlogging\n",
       "3       4                                  GoPro on a Budget\n",
       "4       4        really reliable product at this price range\n",
       "..    ...                                                ...\n",
       "5       3                              Disappointing product\n",
       "6       3                        The best type in the market\n",
       "7       3                                              noisy\n",
       "8       3                                    Too much Costly\n",
       "9       3  The gel is totally dry so not able to fix it o...\n",
       "\n",
       "[198 rows x 2 columns]"
      ]
     },
     "execution_count": 194,
     "metadata": {},
     "output_type": "execute_result"
    }
   ],
   "source": [
    "result=pd.concat(frames)\n",
    "result"
   ]
  },
  {
   "cell_type": "code",
   "execution_count": 196,
   "id": "c2225a8d",
   "metadata": {},
   "outputs": [],
   "source": [
    "result.to_csv(r'C:\\Users\\user\\Desktop\\FRTech Internship Project\\RATING PREDICTION\\prediction excel sheet.csv')"
   ]
  },
  {
   "cell_type": "markdown",
   "id": "a325676e",
   "metadata": {},
   "source": [
    "## THANK YOU"
   ]
  }
 ],
 "metadata": {
  "kernelspec": {
   "display_name": "Python 3 (ipykernel)",
   "language": "python",
   "name": "python3"
  },
  "language_info": {
   "codemirror_mode": {
    "name": "ipython",
    "version": 3
   },
   "file_extension": ".py",
   "mimetype": "text/x-python",
   "name": "python",
   "nbconvert_exporter": "python",
   "pygments_lexer": "ipython3",
   "version": "3.9.12"
  }
 },
 "nbformat": 4,
 "nbformat_minor": 5
}
